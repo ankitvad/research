{
 "cells": [
  {
   "cell_type": "markdown",
   "metadata": {},
   "source": [
    "# Mean reverting startegy based on Bollinger bands Strategy\n",
    "\n",
    "This notebook answers question 3.5 form the text book Advances in Financial Machine Learning.\n",
    "\n",
    "3.5 Develop a mean-reverting strategy based on Bollinger bands. For each observation, the model suggests a side, but not a size of the bet.\n",
    "\n",
    "* (a) Derive meta-labels for ptSl = [0, 2] and t1 where numDays = 1. Use as trgt the daily standard deviation as computed by Snippet 3.1.\n",
    "* (b) Train a random forest to decide whether to trade or not. Use as features: volatility, seial correlation, and teh crossinmg moving averages.\n",
    "* (c) What is teh accuracy of prediction from the primary model? (i.e. if the secondary model does not filter the bets) What are the precision, recall and FI-scores?\n",
    "* (d) What is teh accuracy of prediction from the primary model? What are the precision, recall and FI-scores?\n"
   ]
  },
  {
   "cell_type": "code",
   "execution_count": 1,
   "metadata": {},
   "outputs": [],
   "source": [
    "import numpy as np\n",
    "import pandas as pd\n",
    "import pyfolio as pf\n",
    "import timeit\n",
    "\n",
    "from sklearn.ensemble import RandomForestClassifier\n",
    "from sklearn.model_selection import train_test_split\n",
    "from sklearn.metrics import roc_curve, classification_report, confusion_matrix, accuracy_score\n",
    "\n",
    "from mlfinlab.corefns.core_functions import CoreFunctions\n",
    "from mlfinlab.corefns.financial_functions import FinancialFunctions\n",
    "from mlfinlab.fracdiff.fracdiff import frac_diff_ffd\n",
    "\n",
    "import matplotlib.pyplot as plt\n",
    "%matplotlib inline"
   ]
  },
  {
   "cell_type": "markdown",
   "metadata": {},
   "source": [
    "### Read in Data\n",
    "We are using the dollar bars based off of the high quality HFT data we purchased. There is a sample of bars available in this branch as well. "
   ]
  },
  {
   "cell_type": "code",
   "execution_count": 2,
   "metadata": {},
   "outputs": [],
   "source": [
    "# Read in data\n",
    "data = pd.read_csv('official_data/dollar_bars.csv')\n",
    "data.index = pd.to_datetime(data['date_time'])\n",
    "data = data.drop('date_time', axis=1)"
   ]
  },
  {
   "cell_type": "code",
   "execution_count": 3,
   "metadata": {},
   "outputs": [],
   "source": [
    "data = data['2011-09-01':'2018-01-01']"
   ]
  },
  {
   "cell_type": "markdown",
   "metadata": {},
   "source": [
    "---\n",
    "### Define helper functions"
   ]
  },
  {
   "cell_type": "code",
   "execution_count": 4,
   "metadata": {},
   "outputs": [],
   "source": [
    "def relative_strength_index(df, n):\n",
    "    i = 0\n",
    "    UpI = [0]\n",
    "    DoI = [0]\n",
    "    while i + 1 <= df.index[-1]:\n",
    "        UpMove = df.loc[i + 1, 'high'] - df.loc[i, 'high']\n",
    "        DoMove = df.loc[i, 'low'] - df.loc[i + 1, 'low']\n",
    "        if UpMove > DoMove and UpMove > 0:\n",
    "            UpD = UpMove\n",
    "        else:\n",
    "            UpD = 0\n",
    "        UpI.append(UpD)\n",
    "        if DoMove > UpMove and DoMove > 0:\n",
    "            DoD = DoMove\n",
    "        else:\n",
    "            DoD = 0\n",
    "        DoI.append(DoD)\n",
    "        i = i + 1\n",
    "    UpI = pd.Series(UpI)\n",
    "    DoI = pd.Series(DoI)\n",
    "\n",
    "    PosDI = pd.Series(UpI.ewm(span=n, min_periods=n).mean())\n",
    "    NegDI = pd.Series(DoI.ewm(span=n, min_periods=n).mean())\n",
    "\n",
    "    # PosDI = pd.Series(UpI.rolling(window=n).mean())\n",
    "    # NegDI = pd.Series(DoI.rolling(window=n).mean())\n",
    "\n",
    "    RSI = pd.Series(round(PosDI * 100. / (PosDI + NegDI)), name='RSI_' + str(n))\n",
    "    # df = df.join(RSI)\n",
    "    return RSI\n",
    "\n",
    "    \n",
    "# Compute RSI\n",
    "def get_rsi(data, window=14):\n",
    "    df = data.copy(deep=True).reset_index()\n",
    "    rsi = FinancialFunctions.relative_strength_index(df, window)\n",
    "    rsi_df = pd.Series(data=rsi.values, index=data.index)\n",
    "    return rsi_df"
   ]
  },
  {
   "cell_type": "code",
   "execution_count": 5,
   "metadata": {},
   "outputs": [],
   "source": [
    "def compute_side(data):\n",
    "    # Apply Bolinger band strategy\n",
    "    \"\"\"\n",
    "    The following is a mean reverting strategy using Bollinger Bands:\n",
    "    * If price above upper band then short.\n",
    "    * If price below bottom band then long.\n",
    "    * If price cross mean price then close all positions.\n",
    "    \"\"\"\n",
    "    current_side = 0\n",
    "\n",
    "    store = []\n",
    "    for row in data.itertuples():\n",
    "            # Buy signal\n",
    "            if row.close > row.upper and current_side != -1:\n",
    "                current_side = -1\n",
    "                store.append(current_side)\n",
    "\n",
    "            # Short signal\n",
    "            elif row.close < row.lower and current_side != 1:\n",
    "                current_side = 1\n",
    "                store.append(current_side)\n",
    "\n",
    "            # Close signal long\n",
    "            elif current_side == 1 and row.close > row.avg:\n",
    "                current_side = 0\n",
    "                store.append(current_side)\n",
    "\n",
    "            # Close signal short\n",
    "            elif current_side == -1 and row.close < row.avg:\n",
    "                current_side = 0\n",
    "                store.append(current_side)\n",
    "\n",
    "            # No action\n",
    "            else:\n",
    "                store.append(current_side)\n",
    "    return store"
   ]
  },
  {
   "cell_type": "markdown",
   "metadata": {},
   "source": [
    "---\n",
    "### Fit a Primary Model: Mean-reverting based on Bollinger bands\n",
    "Based on the mean-reverting Bollinger band strategy.\n"
   ]
  },
  {
   "cell_type": "code",
   "execution_count": 6,
   "metadata": {},
   "outputs": [
    {
     "data": {
      "text/html": [
       "<div>\n",
       "<style scoped>\n",
       "    .dataframe tbody tr th:only-of-type {\n",
       "        vertical-align: middle;\n",
       "    }\n",
       "\n",
       "    .dataframe tbody tr th {\n",
       "        vertical-align: top;\n",
       "    }\n",
       "\n",
       "    .dataframe thead th {\n",
       "        text-align: right;\n",
       "    }\n",
       "</style>\n",
       "<table border=\"1\" class=\"dataframe\">\n",
       "  <thead>\n",
       "    <tr style=\"text-align: right;\">\n",
       "      <th></th>\n",
       "      <th>open</th>\n",
       "      <th>high</th>\n",
       "      <th>low</th>\n",
       "      <th>close</th>\n",
       "      <th>cum_vol</th>\n",
       "      <th>cum_dollar</th>\n",
       "      <th>cum_ticks</th>\n",
       "      <th>avg</th>\n",
       "      <th>upper</th>\n",
       "      <th>lower</th>\n",
       "    </tr>\n",
       "    <tr>\n",
       "      <th>date_time</th>\n",
       "      <th></th>\n",
       "      <th></th>\n",
       "      <th></th>\n",
       "      <th></th>\n",
       "      <th></th>\n",
       "      <th></th>\n",
       "      <th></th>\n",
       "      <th></th>\n",
       "      <th></th>\n",
       "      <th></th>\n",
       "    </tr>\n",
       "  </thead>\n",
       "  <tbody>\n",
       "    <tr>\n",
       "      <th>2016-04-27 17:22:18.268</th>\n",
       "      <td>2084.25</td>\n",
       "      <td>2084.25</td>\n",
       "      <td>2081.50</td>\n",
       "      <td>2081.75</td>\n",
       "      <td>33609</td>\n",
       "      <td>70008308.25</td>\n",
       "      <td>4211</td>\n",
       "      <td>2083.155</td>\n",
       "      <td>2088.510609</td>\n",
       "      <td>2077.799391</td>\n",
       "    </tr>\n",
       "    <tr>\n",
       "      <th>2012-05-17 19:48:23.568</th>\n",
       "      <td>1304.75</td>\n",
       "      <td>1305.25</td>\n",
       "      <td>1304.25</td>\n",
       "      <td>1305.25</td>\n",
       "      <td>53956</td>\n",
       "      <td>70395303.75</td>\n",
       "      <td>4878</td>\n",
       "      <td>1316.565</td>\n",
       "      <td>1327.356536</td>\n",
       "      <td>1305.773464</td>\n",
       "    </tr>\n",
       "    <tr>\n",
       "      <th>2013-06-14 16:44:29.482</th>\n",
       "      <td>1625.00</td>\n",
       "      <td>1626.75</td>\n",
       "      <td>1623.50</td>\n",
       "      <td>1626.00</td>\n",
       "      <td>43075</td>\n",
       "      <td>70003168.50</td>\n",
       "      <td>11951</td>\n",
       "      <td>1626.035</td>\n",
       "      <td>1639.950932</td>\n",
       "      <td>1612.119068</td>\n",
       "    </tr>\n",
       "    <tr>\n",
       "      <th>2015-03-04 16:03:35.378</th>\n",
       "      <td>2089.25</td>\n",
       "      <td>2091.50</td>\n",
       "      <td>2088.25</td>\n",
       "      <td>2091.25</td>\n",
       "      <td>33496</td>\n",
       "      <td>70008558.00</td>\n",
       "      <td>11407</td>\n",
       "      <td>2097.820</td>\n",
       "      <td>2110.635822</td>\n",
       "      <td>2085.004178</td>\n",
       "    </tr>\n",
       "    <tr>\n",
       "      <th>2014-11-12 19:32:56.003</th>\n",
       "      <td>2035.00</td>\n",
       "      <td>2036.50</td>\n",
       "      <td>2034.00</td>\n",
       "      <td>2035.50</td>\n",
       "      <td>34405</td>\n",
       "      <td>70019528.75</td>\n",
       "      <td>11195</td>\n",
       "      <td>2033.575</td>\n",
       "      <td>2038.396561</td>\n",
       "      <td>2028.753439</td>\n",
       "    </tr>\n",
       "    <tr>\n",
       "      <th>2011-11-10 16:05:42.532</th>\n",
       "      <td>1229.00</td>\n",
       "      <td>1232.75</td>\n",
       "      <td>1227.75</td>\n",
       "      <td>1232.00</td>\n",
       "      <td>56878</td>\n",
       "      <td>70008400.50</td>\n",
       "      <td>13438</td>\n",
       "      <td>1232.475</td>\n",
       "      <td>1244.994067</td>\n",
       "      <td>1219.955933</td>\n",
       "    </tr>\n",
       "    <tr>\n",
       "      <th>2014-09-03 19:59:59.078</th>\n",
       "      <td>1999.00</td>\n",
       "      <td>1999.75</td>\n",
       "      <td>1998.75</td>\n",
       "      <td>1999.00</td>\n",
       "      <td>35035</td>\n",
       "      <td>70043489.00</td>\n",
       "      <td>4835</td>\n",
       "      <td>2001.365</td>\n",
       "      <td>2009.747568</td>\n",
       "      <td>1992.982432</td>\n",
       "    </tr>\n",
       "    <tr>\n",
       "      <th>2017-11-22 18:07:26.363</th>\n",
       "      <td>2595.00</td>\n",
       "      <td>2596.00</td>\n",
       "      <td>2594.25</td>\n",
       "      <td>2595.50</td>\n",
       "      <td>27036</td>\n",
       "      <td>70160254.75</td>\n",
       "      <td>2165</td>\n",
       "      <td>2597.315</td>\n",
       "      <td>2600.071828</td>\n",
       "      <td>2594.558172</td>\n",
       "    </tr>\n",
       "    <tr>\n",
       "      <th>2016-11-14 14:59:27.617</th>\n",
       "      <td>2164.00</td>\n",
       "      <td>2165.00</td>\n",
       "      <td>2160.50</td>\n",
       "      <td>2160.75</td>\n",
       "      <td>32437</td>\n",
       "      <td>70159584.75</td>\n",
       "      <td>4132</td>\n",
       "      <td>2159.110</td>\n",
       "      <td>2170.608962</td>\n",
       "      <td>2147.611038</td>\n",
       "    </tr>\n",
       "    <tr>\n",
       "      <th>2016-09-08 15:10:20.634</th>\n",
       "      <td>2180.75</td>\n",
       "      <td>2183.00</td>\n",
       "      <td>2180.75</td>\n",
       "      <td>2182.75</td>\n",
       "      <td>32142</td>\n",
       "      <td>70137418.25</td>\n",
       "      <td>2277</td>\n",
       "      <td>2181.410</td>\n",
       "      <td>2186.609843</td>\n",
       "      <td>2176.210157</td>\n",
       "    </tr>\n",
       "  </tbody>\n",
       "</table>\n",
       "</div>"
      ],
      "text/plain": [
       "                            open     high      low    close  cum_vol  \\\n",
       "date_time                                                              \n",
       "2016-04-27 17:22:18.268  2084.25  2084.25  2081.50  2081.75    33609   \n",
       "2012-05-17 19:48:23.568  1304.75  1305.25  1304.25  1305.25    53956   \n",
       "2013-06-14 16:44:29.482  1625.00  1626.75  1623.50  1626.00    43075   \n",
       "2015-03-04 16:03:35.378  2089.25  2091.50  2088.25  2091.25    33496   \n",
       "2014-11-12 19:32:56.003  2035.00  2036.50  2034.00  2035.50    34405   \n",
       "2011-11-10 16:05:42.532  1229.00  1232.75  1227.75  1232.00    56878   \n",
       "2014-09-03 19:59:59.078  1999.00  1999.75  1998.75  1999.00    35035   \n",
       "2017-11-22 18:07:26.363  2595.00  2596.00  2594.25  2595.50    27036   \n",
       "2016-11-14 14:59:27.617  2164.00  2165.00  2160.50  2160.75    32437   \n",
       "2016-09-08 15:10:20.634  2180.75  2183.00  2180.75  2182.75    32142   \n",
       "\n",
       "                          cum_dollar  cum_ticks       avg        upper  \\\n",
       "date_time                                                                \n",
       "2016-04-27 17:22:18.268  70008308.25       4211  2083.155  2088.510609   \n",
       "2012-05-17 19:48:23.568  70395303.75       4878  1316.565  1327.356536   \n",
       "2013-06-14 16:44:29.482  70003168.50      11951  1626.035  1639.950932   \n",
       "2015-03-04 16:03:35.378  70008558.00      11407  2097.820  2110.635822   \n",
       "2014-11-12 19:32:56.003  70019528.75      11195  2033.575  2038.396561   \n",
       "2011-11-10 16:05:42.532  70008400.50      13438  1232.475  1244.994067   \n",
       "2014-09-03 19:59:59.078  70043489.00       4835  2001.365  2009.747568   \n",
       "2017-11-22 18:07:26.363  70160254.75       2165  2597.315  2600.071828   \n",
       "2016-11-14 14:59:27.617  70159584.75       4132  2159.110  2170.608962   \n",
       "2016-09-08 15:10:20.634  70137418.25       2277  2181.410  2186.609843   \n",
       "\n",
       "                               lower  \n",
       "date_time                             \n",
       "2016-04-27 17:22:18.268  2077.799391  \n",
       "2012-05-17 19:48:23.568  1305.773464  \n",
       "2013-06-14 16:44:29.482  1612.119068  \n",
       "2015-03-04 16:03:35.378  2085.004178  \n",
       "2014-11-12 19:32:56.003  2028.753439  \n",
       "2011-11-10 16:05:42.532  1219.955933  \n",
       "2014-09-03 19:59:59.078  1992.982432  \n",
       "2017-11-22 18:07:26.363  2594.558172  \n",
       "2016-11-14 14:59:27.617  2147.611038  \n",
       "2016-09-08 15:10:20.634  2176.210157  "
      ]
     },
     "execution_count": 6,
     "metadata": {},
     "output_type": "execute_result"
    }
   ],
   "source": [
    "# compute bands\n",
    "window = 50\n",
    "data['avg'], data['upper'], data['lower'] = FinancialFunctions.bbands(data['close'], window, no_of_stdev=2)\n",
    "data.sample(10)"
   ]
  },
  {
   "cell_type": "code",
   "execution_count": 15,
   "metadata": {},
   "outputs": [
    {
     "name": "stdout",
     "output_type": "stream",
     "text": [
      "9054\n",
      "9041\n"
     ]
    }
   ],
   "source": [
    "# Compute \n",
    "rsi_df = get_rsi(data, window=14)\n",
    "data['rsi'] = pd.Series(data=rsi_df.values, index=data.index)\n",
    "\n",
    "# Drop the NaN values from our data set\n",
    "data.dropna(axis=0, how='any', inplace=True)"
   ]
  },
  {
   "cell_type": "code",
   "execution_count": 27,
   "metadata": {},
   "outputs": [],
   "source": [
    "# data['side'] = compute_side(data)\n",
    "long_signals = (data['close'] <= data['lower']) & (data['rsi'] <= 25)\n",
    "short_signals = (data['close'] >= data['upper']) & (data['rsi'] >= 75) \n",
    "data.loc[long_signals, 'side'] = 1\n",
    "data.loc[short_signals, 'side'] = -1\n",
    "\n",
    "# Remove Look ahead biase by lagging the signal\n",
    "data['side'] = data['side'].shift(1)\n"
   ]
  },
  {
   "cell_type": "code",
   "execution_count": 28,
   "metadata": {},
   "outputs": [],
   "source": [
    "# Save the raw data\n",
    "raw_data = data.copy()\n",
    "\n",
    "# Drop the NaN values from our data set\n",
    "data.dropna(axis=0, how='any', inplace=True)"
   ]
  },
  {
   "cell_type": "code",
   "execution_count": 29,
   "metadata": {},
   "outputs": [
    {
     "name": "stdout",
     "output_type": "stream",
     "text": [
      "-1.0    4952\n",
      " 1.0    4087\n",
      "Name: side, dtype: int64\n"
     ]
    }
   ],
   "source": [
    "# print(data.sample(5))\n",
    "print(data.side.value_counts())"
   ]
  },
  {
   "cell_type": "markdown",
   "metadata": {},
   "source": [
    "### Filter Events: CUSUM Filter\n",
    "Predict what will happen when a CUSUM event is triggered. Use the signal from the MAvg Strategy to determine the side of the bet."
   ]
  },
  {
   "cell_type": "code",
   "execution_count": 30,
   "metadata": {},
   "outputs": [
    {
     "name": "stdout",
     "output_type": "stream",
     "text": [
      "Calculating daily volatility for dynamic thresholds\n",
      "Applying Symmetric CUSUM filter.\n"
     ]
    },
    {
     "name": "stderr",
     "output_type": "stream",
     "text": [
      "100%|████████████████████████████████████████████████████████████████████████████████████████████████████████████████████████████████████████████████████████████| 9037/9037 [00:01<00:00, 6743.94it/s]\n"
     ]
    }
   ],
   "source": [
    "# Compute daily volatility\n",
    "daily_vol = CoreFunctions.get_daily_vol(close=data['close'], lookback=50)\n",
    "\n",
    "# Apply Symmetric CUSUM Filter and get timestamps for events\n",
    "# Note: Only the CUSUM filter needs a point estimate for volatility\n",
    "cusum_events = CoreFunctions.get_t_events(data['close'], threshold=daily_vol.mean() * 0.1)\n",
    "\n",
    "# Compute vertical barrier\n",
    "vertical_barriers = CoreFunctions.add_vertical_barrier(t_events=cusum_events, close=data['close'], num_days=1)"
   ]
  },
  {
   "cell_type": "code",
   "execution_count": 41,
   "metadata": {},
   "outputs": [
    {
     "name": "stderr",
     "output_type": "stream",
     "text": []
    },
    {
     "name": "stderr",
     "output_type": "stream",
     "text": [
      "2019-03-06 22:24:48.633141 100.0% apply_pt_sl_on_t1 done after 0.05 minutes. Remaining 0.0 minutes.\n"
     ]
    }
   ],
   "source": [
    "pt_sl = [1, 2]\n",
    "triple_barrier_events = CoreFunctions.get_events(close=data['close'],\n",
    "                                  t_events=cusum_events,\n",
    "                                  pt_sl=pt_sl,\n",
    "                                  target=daily_vol,\n",
    "                                  min_ret=0.01,\n",
    "                                  num_threads=2,\n",
    "                                  vertical_barrier_times=vertical_barriers,\n",
    "                                  side=data['side'])"
   ]
  },
  {
   "cell_type": "code",
   "execution_count": 42,
   "metadata": {},
   "outputs": [],
   "source": [
    "labels = CoreFunctions.get_bins(triple_barrier_events, data['close'])"
   ]
  },
  {
   "cell_type": "markdown",
   "metadata": {},
   "source": [
    "---\n",
    "### Results of Primary Model:\n",
    "What is the accuracy of predictions from the primary model (i.e., if the sec- ondary model does not filter the bets)? What are the precision, recall, and F1-scores?"
   ]
  },
  {
   "cell_type": "code",
   "execution_count": 43,
   "metadata": {},
   "outputs": [
    {
     "name": "stdout",
     "output_type": "stream",
     "text": [
      "              precision    recall  f1-score   support\n",
      "\n",
      "           0       0.00      0.00      0.00      1575\n",
      "           1       0.20      1.00      0.34       400\n",
      "\n",
      "   micro avg       0.20      0.20      0.20      1975\n",
      "   macro avg       0.10      0.50      0.17      1975\n",
      "weighted avg       0.04      0.20      0.07      1975\n",
      "\n",
      "Confusion Matrix\n",
      "[[   0 1575]\n",
      " [   0  400]]\n",
      "\n",
      "Accuracy\n",
      "0.20253164556962025\n"
     ]
    }
   ],
   "source": [
    "primary_forecast = pd.DataFrame(labels['bin'])\n",
    "primary_forecast['pred'] = 1\n",
    "primary_forecast.columns = ['actual', 'pred']\n",
    "\n",
    "# Performance Metrics\n",
    "actual = primary_forecast['actual']\n",
    "pred = primary_forecast['pred']\n",
    "print(classification_report(y_true=actual, y_pred=pred))\n",
    "\n",
    "print(\"Confusion Matrix\")\n",
    "print(confusion_matrix(actual, pred))\n",
    "\n",
    "print('')\n",
    "print(\"Accuracy\")\n",
    "print(accuracy_score(actual, pred))"
   ]
  },
  {
   "cell_type": "markdown",
   "metadata": {},
   "source": [
    "---\n",
    "## Fit a Meta Model\n",
    "Train a random forest to decide whether to trade or not (i.e 1 or 0 respectively) since the earlier model has decided the side (-1 or 1)\n",
    "\n",
    "Create the following features: \n",
    "* Volatility\n",
    "* Serial Correlation\n",
    "* The returns at the different lags from the serial correlation\n",
    "* The sides from the SMavg Strategy"
   ]
  },
  {
   "cell_type": "code",
   "execution_count": 40,
   "metadata": {},
   "outputs": [
    {
     "data": {
      "text/html": [
       "<div>\n",
       "<style scoped>\n",
       "    .dataframe tbody tr th:only-of-type {\n",
       "        vertical-align: middle;\n",
       "    }\n",
       "\n",
       "    .dataframe tbody tr th {\n",
       "        vertical-align: top;\n",
       "    }\n",
       "\n",
       "    .dataframe thead th {\n",
       "        text-align: right;\n",
       "    }\n",
       "</style>\n",
       "<table border=\"1\" class=\"dataframe\">\n",
       "  <thead>\n",
       "    <tr style=\"text-align: right;\">\n",
       "      <th></th>\n",
       "      <th>open</th>\n",
       "      <th>high</th>\n",
       "      <th>low</th>\n",
       "      <th>close</th>\n",
       "      <th>cum_vol</th>\n",
       "      <th>cum_dollar</th>\n",
       "      <th>cum_ticks</th>\n",
       "      <th>avg</th>\n",
       "      <th>upper</th>\n",
       "      <th>lower</th>\n",
       "      <th>rsi</th>\n",
       "      <th>side</th>\n",
       "    </tr>\n",
       "    <tr>\n",
       "      <th>date_time</th>\n",
       "      <th></th>\n",
       "      <th></th>\n",
       "      <th></th>\n",
       "      <th></th>\n",
       "      <th></th>\n",
       "      <th></th>\n",
       "      <th></th>\n",
       "      <th></th>\n",
       "      <th></th>\n",
       "      <th></th>\n",
       "      <th></th>\n",
       "      <th></th>\n",
       "    </tr>\n",
       "  </thead>\n",
       "  <tbody>\n",
       "    <tr>\n",
       "      <th>2011-09-02 15:27:35.512</th>\n",
       "      <td>1183.00</td>\n",
       "      <td>1184.50</td>\n",
       "      <td>1181.25</td>\n",
       "      <td>1182.75</td>\n",
       "      <td>59181</td>\n",
       "      <td>70001932.50</td>\n",
       "      <td>15133</td>\n",
       "      <td>NaN</td>\n",
       "      <td>NaN</td>\n",
       "      <td>NaN</td>\n",
       "      <td>NaN</td>\n",
       "      <td>NaN</td>\n",
       "    </tr>\n",
       "    <tr>\n",
       "      <th>2011-09-02 15:42:44.229</th>\n",
       "      <td>1183.00</td>\n",
       "      <td>1185.00</td>\n",
       "      <td>1181.75</td>\n",
       "      <td>1183.75</td>\n",
       "      <td>59163</td>\n",
       "      <td>70003656.75</td>\n",
       "      <td>16227</td>\n",
       "      <td>NaN</td>\n",
       "      <td>NaN</td>\n",
       "      <td>NaN</td>\n",
       "      <td>NaN</td>\n",
       "      <td>0.0</td>\n",
       "    </tr>\n",
       "    <tr>\n",
       "      <th>2011-09-02 16:02:52.327</th>\n",
       "      <td>1183.75</td>\n",
       "      <td>1184.50</td>\n",
       "      <td>1180.50</td>\n",
       "      <td>1182.00</td>\n",
       "      <td>59217</td>\n",
       "      <td>70007894.75</td>\n",
       "      <td>15588</td>\n",
       "      <td>NaN</td>\n",
       "      <td>NaN</td>\n",
       "      <td>NaN</td>\n",
       "      <td>NaN</td>\n",
       "      <td>0.0</td>\n",
       "    </tr>\n",
       "    <tr>\n",
       "      <th>2011-09-02 16:33:54.667</th>\n",
       "      <td>1182.00</td>\n",
       "      <td>1184.75</td>\n",
       "      <td>1180.75</td>\n",
       "      <td>1181.50</td>\n",
       "      <td>59185</td>\n",
       "      <td>70000538.75</td>\n",
       "      <td>17609</td>\n",
       "      <td>NaN</td>\n",
       "      <td>NaN</td>\n",
       "      <td>NaN</td>\n",
       "      <td>NaN</td>\n",
       "      <td>0.0</td>\n",
       "    </tr>\n",
       "    <tr>\n",
       "      <th>2011-09-02 17:00:38.204</th>\n",
       "      <td>1181.50</td>\n",
       "      <td>1182.75</td>\n",
       "      <td>1180.75</td>\n",
       "      <td>1181.75</td>\n",
       "      <td>59246</td>\n",
       "      <td>70009944.50</td>\n",
       "      <td>13769</td>\n",
       "      <td>NaN</td>\n",
       "      <td>NaN</td>\n",
       "      <td>NaN</td>\n",
       "      <td>NaN</td>\n",
       "      <td>0.0</td>\n",
       "    </tr>\n",
       "  </tbody>\n",
       "</table>\n",
       "</div>"
      ],
      "text/plain": [
       "                            open     high      low    close  cum_vol  \\\n",
       "date_time                                                              \n",
       "2011-09-02 15:27:35.512  1183.00  1184.50  1181.25  1182.75    59181   \n",
       "2011-09-02 15:42:44.229  1183.00  1185.00  1181.75  1183.75    59163   \n",
       "2011-09-02 16:02:52.327  1183.75  1184.50  1180.50  1182.00    59217   \n",
       "2011-09-02 16:33:54.667  1182.00  1184.75  1180.75  1181.50    59185   \n",
       "2011-09-02 17:00:38.204  1181.50  1182.75  1180.75  1181.75    59246   \n",
       "\n",
       "                          cum_dollar  cum_ticks  avg  upper  lower  rsi  side  \n",
       "date_time                                                                      \n",
       "2011-09-02 15:27:35.512  70001932.50      15133  NaN    NaN    NaN  NaN   NaN  \n",
       "2011-09-02 15:42:44.229  70003656.75      16227  NaN    NaN    NaN  NaN   0.0  \n",
       "2011-09-02 16:02:52.327  70007894.75      15588  NaN    NaN    NaN  NaN   0.0  \n",
       "2011-09-02 16:33:54.667  70000538.75      17609  NaN    NaN    NaN  NaN   0.0  \n",
       "2011-09-02 17:00:38.204  70009944.50      13769  NaN    NaN    NaN  NaN   0.0  "
      ]
     },
     "execution_count": 40,
     "metadata": {},
     "output_type": "execute_result"
    }
   ],
   "source": [
    "raw_data.head()"
   ]
  },
  {
   "cell_type": "markdown",
   "metadata": {},
   "source": [
    "### Features"
   ]
  },
  {
   "cell_type": "code",
   "execution_count": 41,
   "metadata": {},
   "outputs": [],
   "source": [
    "# Log Returns\n",
    "raw_data['log_ret'] = np.log(raw_data['close']).diff()\n",
    "\n",
    "# Momentum\n",
    "raw_data['mom1'] = raw_data['close'].pct_change(periods=1)\n",
    "raw_data['mom2'] = raw_data['close'].pct_change(periods=2)\n",
    "raw_data['mom3'] = raw_data['close'].pct_change(periods=3)\n",
    "raw_data['mom4'] = raw_data['close'].pct_change(periods=4)\n",
    "raw_data['mom5'] = raw_data['close'].pct_change(periods=5)\n",
    "\n",
    "# Volatility\n",
    "window_stdev = 50\n",
    "raw_data['volatility'] = raw_data['log_ret'].rolling(window=window_stdev, min_periods=window_stdev, center=False).std()\n",
    "\n",
    "# Serial Correlation (Takes about 4 minutes)\n",
    "window_autocorr = 50\n",
    "\n",
    "raw_data['autocorr_1'] = raw_data['log_ret'].rolling(window=window_autocorr, min_periods=window_autocorr, center=False).apply(lambda x: x.autocorr(lag=1), raw=False)\n",
    "raw_data['autocorr_2'] = raw_data['log_ret'].rolling(window=window_autocorr, min_periods=window_autocorr, center=False).apply(lambda x: x.autocorr(lag=2), raw=False)\n",
    "raw_data['autocorr_3'] = raw_data['log_ret'].rolling(window=window_autocorr, min_periods=window_autocorr, center=False).apply(lambda x: x.autocorr(lag=3), raw=False)\n",
    "raw_data['autocorr_4'] = raw_data['log_ret'].rolling(window=window_autocorr, min_periods=window_autocorr, center=False).apply(lambda x: x.autocorr(lag=4), raw=False)\n",
    "raw_data['autocorr_5'] = raw_data['log_ret'].rolling(window=window_autocorr, min_periods=window_autocorr, center=False).apply(lambda x: x.autocorr(lag=5), raw=False)\n",
    "\n",
    "# Get the various log -t returns\n",
    "raw_data['log_t1'] = raw_data['log_ret'].shift(1)\n",
    "raw_data['log_t2'] = raw_data['log_ret'].shift(2)\n",
    "raw_data['log_t3'] = raw_data['log_ret'].shift(3)\n",
    "raw_data['log_t4'] = raw_data['log_ret'].shift(4)\n",
    "raw_data['log_t5'] = raw_data['log_ret'].shift(5)"
   ]
  },
  {
   "cell_type": "code",
   "execution_count": 20,
   "metadata": {},
   "outputs": [],
   "source": [
    "# Re compute sides\n",
    "raw_data['side'] = np.nan\n",
    "\n",
    "long_signals = raw_data['fast_mavg'] >= raw_data['slow_mavg']\n",
    "short_signals = raw_data['fast_mavg'] < raw_data['slow_mavg']\n",
    "raw_data.loc[long_signals, 'side'] = 1\n",
    "raw_data.loc[short_signals, 'side'] = -1"
   ]
  },
  {
   "cell_type": "code",
   "execution_count": 21,
   "metadata": {},
   "outputs": [],
   "source": [
    "# Remove look ahead bias\n",
    "raw_data = raw_data.shift(1)"
   ]
  },
  {
   "cell_type": "markdown",
   "metadata": {},
   "source": [
    "#### Now get the data at the specified events"
   ]
  },
  {
   "cell_type": "code",
   "execution_count": 23,
   "metadata": {},
   "outputs": [],
   "source": [
    "# Get features at event dates\n",
    "X = raw_data.loc[labels.index, :]\n",
    "\n",
    "# Drop unwanted columns\n",
    "X.drop(['open', 'high', 'low', 'close', 'cum_vol', 'cum_dollar', 'cum_ticks','fast_mavg', 'slow_mavg',], axis=1, inplace=True)\n",
    "\n",
    "y = labels['bin']"
   ]
  },
  {
   "cell_type": "markdown",
   "metadata": {},
   "source": [
    "### Fit a model"
   ]
  },
  {
   "cell_type": "code",
   "execution_count": 24,
   "metadata": {},
   "outputs": [],
   "source": [
    "# Split data\n",
    "X_train, X_test, y_train, y_test = train_test_split(X, y, test_size=0.7, shuffle=False)"
   ]
  },
  {
   "cell_type": "code",
   "execution_count": 25,
   "metadata": {},
   "outputs": [
    {
     "data": {
      "text/plain": [
       "RandomForestClassifier(bootstrap=True, class_weight=None, criterion='entropy',\n",
       "            max_depth=9, max_features='auto', max_leaf_nodes=None,\n",
       "            min_impurity_decrease=0.0, min_impurity_split=None,\n",
       "            min_samples_leaf=1, min_samples_split=2,\n",
       "            min_weight_fraction_leaf=0.0, n_estimators=50, n_jobs=None,\n",
       "            oob_score=False, random_state=42, verbose=0, warm_start=False)"
      ]
     },
     "execution_count": 25,
     "metadata": {},
     "output_type": "execute_result"
    }
   ],
   "source": [
    "# Random Forest Model\n",
    "n_estimator = 50\n",
    "c_random_state = 42\n",
    "depth = 9\n",
    "\n",
    "rf = RandomForestClassifier(max_depth=depth, n_estimators=n_estimator,\n",
    "                            criterion='entropy', random_state=c_random_state)\n",
    "rf.fit(X_train, y_train.values.ravel())"
   ]
  },
  {
   "cell_type": "markdown",
   "metadata": {},
   "source": [
    "#### Training Metrics"
   ]
  },
  {
   "cell_type": "code",
   "execution_count": 26,
   "metadata": {},
   "outputs": [
    {
     "name": "stdout",
     "output_type": "stream",
     "text": [
      "              precision    recall  f1-score   support\n",
      "\n",
      "           0       0.99      1.00      1.00       125\n",
      "           1       1.00      0.99      1.00       107\n",
      "\n",
      "   micro avg       1.00      1.00      1.00       232\n",
      "   macro avg       1.00      1.00      1.00       232\n",
      "weighted avg       1.00      1.00      1.00       232\n",
      "\n",
      "Confusion Matrix\n",
      "[[125   0]\n",
      " [  1 106]]\n",
      "\n",
      "Accuracy\n",
      "0.36774193548387096\n"
     ]
    },
    {
     "data": {
      "image/png": "[encoded data removed]",
      "text/plain": [
       "<Figure size 432x288 with 1 Axes>"
      ]
     },
     "metadata": {
      "needs_background": "light"
     },
     "output_type": "display_data"
    }
   ],
   "source": [
    "# Performance Metrics\n",
    "y_pred_rf = rf.predict_proba(X_train)[:, 1]\n",
    "y_pred = rf.predict(X_train)\n",
    "fpr_rf, tpr_rf, _ = roc_curve(y_train, y_pred_rf)\n",
    "print(classification_report(y_train, y_pred))\n",
    "\n",
    "print(\"Confusion Matrix\")\n",
    "print(confusion_matrix(y_train, y_pred))\n",
    "\n",
    "print('')\n",
    "print(\"Accuracy\")\n",
    "print(accuracy_score(actual, pred))\n",
    "\n",
    "plt.figure(1)\n",
    "plt.plot([0, 1], [0, 1], 'k--')\n",
    "plt.plot(fpr_rf, tpr_rf, label='RF')\n",
    "plt.xlabel('False positive rate')\n",
    "plt.ylabel('True positive rate')\n",
    "plt.title('ROC curve')\n",
    "plt.legend(loc='best')\n",
    "plt.show()"
   ]
  },
  {
   "cell_type": "markdown",
   "metadata": {},
   "source": [
    "This is overfitting big time but I'll leave the hyper param tuning to other enthusiast. "
   ]
  },
  {
   "cell_type": "markdown",
   "metadata": {},
   "source": [
    "#### Test Metrics"
   ]
  },
  {
   "cell_type": "code",
   "execution_count": 27,
   "metadata": {},
   "outputs": [
    {
     "name": "stdout",
     "output_type": "stream",
     "text": [
      "              precision    recall  f1-score   support\n",
      "\n",
      "           0       0.71      0.67      0.69       365\n",
      "           1       0.40      0.44      0.42       178\n",
      "\n",
      "   micro avg       0.60      0.60      0.60       543\n",
      "   macro avg       0.55      0.56      0.56       543\n",
      "weighted avg       0.61      0.60      0.60       543\n",
      "\n",
      "Confusion Matrix\n",
      "[[245 120]\n",
      " [ 99  79]]\n",
      "\n",
      "Accuracy\n",
      "0.36774193548387096\n"
     ]
    },
    {
     "data": {
      "image/png": "[encoded data removed]",
      "text/plain": [
       "<Figure size 432x288 with 1 Axes>"
      ]
     },
     "metadata": {
      "needs_background": "light"
     },
     "output_type": "display_data"
    }
   ],
   "source": [
    "# Performance Metrics\n",
    "y_pred_rf = rf.predict_proba(X_test)[:, 1]\n",
    "y_pred = rf.predict(X_test)\n",
    "fpr_rf, tpr_rf, _ = roc_curve(y_test, y_pred_rf)\n",
    "print(classification_report(y_test, y_pred))\n",
    "\n",
    "print(\"Confusion Matrix\")\n",
    "print(confusion_matrix(y_test, y_pred))\n",
    "\n",
    "print('')\n",
    "print(\"Accuracy\")\n",
    "print(accuracy_score(actual, pred))\n",
    "\n",
    "plt.figure(1)\n",
    "plt.plot([0, 1], [0, 1], 'k--')\n",
    "plt.plot(fpr_rf, tpr_rf, label='RF')\n",
    "plt.xlabel('False positive rate')\n",
    "plt.ylabel('True positive rate')\n",
    "plt.title('ROC curve')\n",
    "plt.legend(loc='best')\n",
    "plt.show()"
   ]
  },
  {
   "cell_type": "code",
   "execution_count": 37,
   "metadata": {},
   "outputs": [
    {
     "data": {
      "image/png": "[encoded data removed]",
      "text/plain": [
       "<Figure size 1080x360 with 1 Axes>"
      ]
     },
     "metadata": {
      "needs_background": "light"
     },
     "output_type": "display_data"
    }
   ],
   "source": [
    "# Feature Importance\n",
    "title = 'Feature Importance:'\n",
    "figsize = (15, 5)\n",
    "\n",
    "feat_imp = pd.DataFrame({'Importance':rf.feature_importances_})    \n",
    "feat_imp['feature'] = X.columns\n",
    "feat_imp.sort_values(by='Importance', ascending=False, inplace=True)\n",
    "feat_imp = feat_imp\n",
    "\n",
    "feat_imp.sort_values(by='Importance', inplace=True)\n",
    "feat_imp = feat_imp.set_index('feature', drop=True)\n",
    "feat_imp.plot.barh(title=title, figsize=figsize)\n",
    "plt.xlabel('Feature Importance Score')\n",
    "plt.show()"
   ]
  },
  {
   "cell_type": "markdown",
   "metadata": {},
   "source": [
    "Note how low the side is ranked. If we look at the performance of the primary model we will see that the SMA strategy gets only 36% of the trades correct."
   ]
  },
  {
   "cell_type": "markdown",
   "metadata": {},
   "source": [
    "---\n",
    "## Performance Tear Sheets"
   ]
  },
  {
   "cell_type": "code",
   "execution_count": 29,
   "metadata": {},
   "outputs": [
    {
     "data": {
      "text/html": [
       "<table border=\"1\" class=\"dataframe\">\n",
       "  <thead>\n",
       "    <tr style=\"text-align: right;\"><th>Start date</th><td colspan=2>2011-10-14</td></tr>\n",
       "    <tr style=\"text-align: right;\"><th>End date</th><td colspan=2>2016-11-10</td></tr>\n",
       "    <tr style=\"text-align: right;\"><th>Total months</th><td colspan=2>25</td></tr>\n",
       "    <tr style=\"text-align: right;\">\n",
       "      <th></th>\n",
       "      <th>Backtest</th>\n",
       "    </tr>\n",
       "  </thead>\n",
       "  <tbody>\n",
       "    <tr>\n",
       "      <th>Annual return</th>\n",
       "      <td>-17.1%</td>\n",
       "    </tr>\n",
       "    <tr>\n",
       "      <th>Cumulative returns</th>\n",
       "      <td>-33.3%</td>\n",
       "    </tr>\n",
       "    <tr>\n",
       "      <th>Annual volatility</th>\n",
       "      <td>23.4%</td>\n",
       "    </tr>\n",
       "    <tr>\n",
       "      <th>Sharpe ratio</th>\n",
       "      <td>-0.69</td>\n",
       "    </tr>\n",
       "    <tr>\n",
       "      <th>Calmar ratio</th>\n",
       "      <td>-0.40</td>\n",
       "    </tr>\n",
       "    <tr>\n",
       "      <th>Stability</th>\n",
       "      <td>0.73</td>\n",
       "    </tr>\n",
       "    <tr>\n",
       "      <th>Max drawdown</th>\n",
       "      <td>-42.3%</td>\n",
       "    </tr>\n",
       "    <tr>\n",
       "      <th>Omega ratio</th>\n",
       "      <td>0.90</td>\n",
       "    </tr>\n",
       "    <tr>\n",
       "      <th>Sortino ratio</th>\n",
       "      <td>-0.86</td>\n",
       "    </tr>\n",
       "    <tr>\n",
       "      <th>Skew</th>\n",
       "      <td>-0.59</td>\n",
       "    </tr>\n",
       "    <tr>\n",
       "      <th>Kurtosis</th>\n",
       "      <td>-0.62</td>\n",
       "    </tr>\n",
       "    <tr>\n",
       "      <th>Tail ratio</th>\n",
       "      <td>0.66</td>\n",
       "    </tr>\n",
       "    <tr>\n",
       "      <th>Daily value at risk</th>\n",
       "      <td>-3.0%</td>\n",
       "    </tr>\n",
       "  </tbody>\n",
       "</table>"
      ],
      "text/plain": [
       "<IPython.core.display.HTML object>"
      ]
     },
     "metadata": {},
     "output_type": "display_data"
    },
    {
     "name": "stdout",
     "output_type": "stream",
     "text": [
      "None\n"
     ]
    },
    {
     "name": "stderr",
     "output_type": "stream",
     "text": [
      "/home/ariadne/anaconda3/envs/mlfinlab/lib/python3.6/site-packages/numpy/core/fromnumeric.py:56: FutureWarning: \n",
      "The current behaviour of 'Series.argmin' is deprecated, use 'idxmin'\n",
      "instead.\n",
      "The behavior of 'argmin' will be corrected to return the positional\n",
      "minimum in the future. For now, use 'series.values.argmin' or\n",
      "'np.argmin(np.array(values))' to get the position of the minimum\n",
      "row.\n",
      "  return getattr(obj, method)(*args, **kwds)\n"
     ]
    },
    {
     "data": {
      "text/html": [
       "<table border=\"1\" class=\"dataframe\">\n",
       "  <thead>\n",
       "    <tr style=\"text-align: right;\">\n",
       "      <th>Worst drawdown periods</th>\n",
       "      <th>Net drawdown in %</th>\n",
       "      <th>Peak date</th>\n",
       "      <th>Valley date</th>\n",
       "      <th>Recovery date</th>\n",
       "      <th>Duration</th>\n",
       "    </tr>\n",
       "  </thead>\n",
       "  <tbody>\n",
       "    <tr>\n",
       "      <th>0</th>\n",
       "      <td>42.34</td>\n",
       "      <td>2011-10-14</td>\n",
       "      <td>2016-11-09</td>\n",
       "      <td>NaT</td>\n",
       "      <td>NaN</td>\n",
       "    </tr>\n",
       "    <tr>\n",
       "      <th>1</th>\n",
       "      <td>0.00</td>\n",
       "      <td>2011-10-14</td>\n",
       "      <td>2011-10-14</td>\n",
       "      <td>2011-10-14</td>\n",
       "      <td>1</td>\n",
       "    </tr>\n",
       "    <tr>\n",
       "      <th>2</th>\n",
       "      <td>0.00</td>\n",
       "      <td>2011-10-14</td>\n",
       "      <td>2011-10-14</td>\n",
       "      <td>2011-10-14</td>\n",
       "      <td>1</td>\n",
       "    </tr>\n",
       "    <tr>\n",
       "      <th>3</th>\n",
       "      <td>0.00</td>\n",
       "      <td>2011-10-14</td>\n",
       "      <td>2011-10-14</td>\n",
       "      <td>2011-10-14</td>\n",
       "      <td>1</td>\n",
       "    </tr>\n",
       "    <tr>\n",
       "      <th>4</th>\n",
       "      <td>0.00</td>\n",
       "      <td>2011-10-14</td>\n",
       "      <td>2011-10-14</td>\n",
       "      <td>2011-10-14</td>\n",
       "      <td>1</td>\n",
       "    </tr>\n",
       "  </tbody>\n",
       "</table>"
      ],
      "text/plain": [
       "<IPython.core.display.HTML object>"
      ]
     },
     "metadata": {},
     "output_type": "display_data"
    },
    {
     "name": "stdout",
     "output_type": "stream",
     "text": [
      "None\n"
     ]
    }
   ],
   "source": [
    "test_dates = X_test.index\n",
    "\n",
    "print(pf.show_perf_stats(labels.loc[test_dates, 'ret']))\n",
    "print(pf.show_worst_drawdown_periods(labels.loc[test_dates, 'ret']))"
   ]
  },
  {
   "cell_type": "code",
   "execution_count": 30,
   "metadata": {},
   "outputs": [
    {
     "data": {
      "text/html": [
       "<table border=\"1\" class=\"dataframe\">\n",
       "  <thead>\n",
       "    <tr style=\"text-align: right;\"><th>Start date</th><td colspan=2>2011-10-14</td></tr>\n",
       "    <tr style=\"text-align: right;\"><th>End date</th><td colspan=2>2016-11-10</td></tr>\n",
       "    <tr style=\"text-align: right;\"><th>Total months</th><td colspan=2>25</td></tr>\n",
       "    <tr style=\"text-align: right;\">\n",
       "      <th></th>\n",
       "      <th>Backtest</th>\n",
       "    </tr>\n",
       "  </thead>\n",
       "  <tbody>\n",
       "    <tr>\n",
       "      <th>Annual return</th>\n",
       "      <td>2.6%</td>\n",
       "    </tr>\n",
       "    <tr>\n",
       "      <th>Cumulative returns</th>\n",
       "      <td>5.6%</td>\n",
       "    </tr>\n",
       "    <tr>\n",
       "      <th>Annual volatility</th>\n",
       "      <td>14.9%</td>\n",
       "    </tr>\n",
       "    <tr>\n",
       "      <th>Sharpe ratio</th>\n",
       "      <td>0.25</td>\n",
       "    </tr>\n",
       "    <tr>\n",
       "      <th>Calmar ratio</th>\n",
       "      <td>0.10</td>\n",
       "    </tr>\n",
       "    <tr>\n",
       "      <th>Stability</th>\n",
       "      <td>0.01</td>\n",
       "    </tr>\n",
       "    <tr>\n",
       "      <th>Max drawdown</th>\n",
       "      <td>-26.0%</td>\n",
       "    </tr>\n",
       "    <tr>\n",
       "      <th>Omega ratio</th>\n",
       "      <td>1.06</td>\n",
       "    </tr>\n",
       "    <tr>\n",
       "      <th>Sortino ratio</th>\n",
       "      <td>0.31</td>\n",
       "    </tr>\n",
       "    <tr>\n",
       "      <th>Skew</th>\n",
       "      <td>-1.26</td>\n",
       "    </tr>\n",
       "    <tr>\n",
       "      <th>Kurtosis</th>\n",
       "      <td>3.82</td>\n",
       "    </tr>\n",
       "    <tr>\n",
       "      <th>Tail ratio</th>\n",
       "      <td>0.69</td>\n",
       "    </tr>\n",
       "    <tr>\n",
       "      <th>Daily value at risk</th>\n",
       "      <td>-1.9%</td>\n",
       "    </tr>\n",
       "  </tbody>\n",
       "</table>"
      ],
      "text/plain": [
       "<IPython.core.display.HTML object>"
      ]
     },
     "metadata": {},
     "output_type": "display_data"
    },
    {
     "name": "stdout",
     "output_type": "stream",
     "text": [
      "None\n"
     ]
    },
    {
     "data": {
      "text/html": [
       "<table border=\"1\" class=\"dataframe\">\n",
       "  <thead>\n",
       "    <tr style=\"text-align: right;\">\n",
       "      <th>Worst drawdown periods</th>\n",
       "      <th>Net drawdown in %</th>\n",
       "      <th>Peak date</th>\n",
       "      <th>Valley date</th>\n",
       "      <th>Recovery date</th>\n",
       "      <th>Duration</th>\n",
       "    </tr>\n",
       "  </thead>\n",
       "  <tbody>\n",
       "    <tr>\n",
       "      <th>0</th>\n",
       "      <td>26.04</td>\n",
       "      <td>2011-10-20</td>\n",
       "      <td>2015-08-25</td>\n",
       "      <td>2016-02-25</td>\n",
       "      <td>1136</td>\n",
       "    </tr>\n",
       "    <tr>\n",
       "      <th>1</th>\n",
       "      <td>7.92</td>\n",
       "      <td>2016-11-09</td>\n",
       "      <td>2016-11-09</td>\n",
       "      <td>2016-11-09</td>\n",
       "      <td>1</td>\n",
       "    </tr>\n",
       "    <tr>\n",
       "      <th>2</th>\n",
       "      <td>6.01</td>\n",
       "      <td>2011-10-17</td>\n",
       "      <td>2011-10-18</td>\n",
       "      <td>2011-10-20</td>\n",
       "      <td>4</td>\n",
       "    </tr>\n",
       "    <tr>\n",
       "      <th>3</th>\n",
       "      <td>5.72</td>\n",
       "      <td>2016-11-09</td>\n",
       "      <td>2016-11-09</td>\n",
       "      <td>NaT</td>\n",
       "      <td>NaN</td>\n",
       "    </tr>\n",
       "    <tr>\n",
       "      <th>4</th>\n",
       "      <td>0.00</td>\n",
       "      <td>2011-10-14</td>\n",
       "      <td>2011-10-14</td>\n",
       "      <td>2011-10-14</td>\n",
       "      <td>1</td>\n",
       "    </tr>\n",
       "  </tbody>\n",
       "</table>"
      ],
      "text/plain": [
       "<IPython.core.display.HTML object>"
      ]
     },
     "metadata": {},
     "output_type": "display_data"
    },
    {
     "name": "stdout",
     "output_type": "stream",
     "text": [
      "None\n"
     ]
    }
   ],
   "source": [
    "meta_returns = labels.loc[test_dates, 'ret'] * y_pred\n",
    "\n",
    "print(pf.show_perf_stats(meta_returns))\n",
    "print(pf.show_worst_drawdown_periods(meta_returns))"
   ]
  },
  {
   "cell_type": "markdown",
   "metadata": {},
   "source": [
    "---\n",
    "## Conclusion\n",
    "It would seem that the biggest problem here is the moving average strategy. It is not a good signal!\n",
    "\n",
    "You can play around with the model and the metrics. Interesting to see the difference if you shuffel the data vs not. \n",
    "\n",
    "Its great to see in this notebook that meta labeling helped to improve the portfolio's performance metrics by reducing the drawdown and increaseing the returns from -17% to a 2.6%"
   ]
  }
 ],
 "metadata": {
  "kernelspec": {
   "display_name": "Python 3",
   "language": "python",
   "name": "python3"
  },
  "language_info": {
   "codemirror_mode": {
    "name": "ipython",
    "version": 3
   },
   "file_extension": ".py",
   "mimetype": "text/x-python",
   "name": "python",
   "nbconvert_exporter": "python",
   "pygments_lexer": "ipython3",
   "version": "3.6.8"
  }
 },
 "nbformat": 4,
 "nbformat_minor": 2
}
