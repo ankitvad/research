{
 "cells": [
  {
   "cell_type": "markdown",
   "metadata": {},
   "source": [
    "# Mean reverting startegy based on Bollinger bands Strategy\n",
    "\n",
    "This notebook answers question 3.5 form the text book Advances in Financial Machine Learning.\n",
    "\n",
    "3.5 Develop a mean-reverting strategy based on Bollinger bands. For each observation, the model suggests a side, but not a size of the bet.\n",
    "\n",
    "* (a) Derive meta-labels for ptSl = [0, 2] and t1 where numDays = 1. Use as trgt the daily standard deviation as computed by Snippet 3.1.\n",
    "* (b) Train a random forest to decide whether to trade or not. Use as features: volatility, seial correlation, and teh crossinmg moving averages.\n",
    "* (c) What is teh accuracy of prediction from the primary model? (i.e. if the secondary model does not filter the bets) What are the precision, recall and FI-scores?\n",
    "* (d) What is teh accuracy of prediction from the primary model? What are the precision, recall and FI-scores?\n"
   ]
  },
  {
   "cell_type": "code",
   "execution_count": 82,
   "metadata": {},
   "outputs": [],
   "source": [
    "import numpy as np\n",
    "import pandas as pd\n",
    "import pyfolio as pf\n",
    "import timeit\n",
    "\n",
    "from statsmodels.tsa.stattools import adfuller\n",
    "\n",
    "from sklearn.ensemble import RandomForestClassifier\n",
    "from sklearn.model_selection import train_test_split\n",
    "from sklearn.metrics import roc_curve, classification_report, confusion_matrix, accuracy_score\n",
    "from sklearn.preprocessing import StandardScaler \n",
    "from sklearn.decomposition import PCA\n",
    "\n",
    "from mlfinlab.corefns.core_functions import CoreFunctions\n",
    "from mlfinlab.corefns.financial_functions import FinancialFunctions\n",
    "from mlfinlab.fracdiff.fracdiff import frac_diff_ffd\n",
    "\n",
    "import matplotlib.pyplot as plt\n",
    "%matplotlib inline"
   ]
  },
  {
   "cell_type": "markdown",
   "metadata": {},
   "source": [
    "### Read in Data\n",
    "We are using the dollar bars based off of the high quality HFT data we purchased. There is a sample of bars available in this branch as well. "
   ]
  },
  {
   "cell_type": "code",
   "execution_count": 83,
   "metadata": {},
   "outputs": [],
   "source": [
    "# Read in data\n",
    "data = pd.read_csv('official_data/dollar_bars.csv')\n",
    "data.index = pd.to_datetime(data['date_time'])\n",
    "data = data.drop('date_time', axis=1)"
   ]
  },
  {
   "cell_type": "code",
   "execution_count": 84,
   "metadata": {},
   "outputs": [],
   "source": [
    "data = data['2011-09-01':'2018-01-01']"
   ]
  },
  {
   "cell_type": "markdown",
   "metadata": {},
   "source": [
    "---\n",
    "### Define helper functions"
   ]
  },
  {
   "cell_type": "code",
   "execution_count": 85,
   "metadata": {},
   "outputs": [],
   "source": [
    "# Compute RSI\n",
    "def get_rsi(data, window=14):\n",
    "    df = data.copy(deep=True).reset_index()\n",
    "    rsi = FinancialFunctions.relative_strength_index(df, window)\n",
    "    rsi_df = pd.Series(data=rsi.values, index=data.index)\n",
    "    return rsi_df"
   ]
  },
  {
   "cell_type": "markdown",
   "metadata": {},
   "source": [
    "---\n",
    "### Fit a Primary Model: Mean-reverting based on Bollinger bands\n",
    "Based on the mean-reverting Bollinger band strategy.\n"
   ]
  },
  {
   "cell_type": "code",
   "execution_count": 86,
   "metadata": {},
   "outputs": [
    {
     "data": {
      "text/html": [
       "<div>\n",
       "<style scoped>\n",
       "    .dataframe tbody tr th:only-of-type {\n",
       "        vertical-align: middle;\n",
       "    }\n",
       "\n",
       "    .dataframe tbody tr th {\n",
       "        vertical-align: top;\n",
       "    }\n",
       "\n",
       "    .dataframe thead th {\n",
       "        text-align: right;\n",
       "    }\n",
       "</style>\n",
       "<table border=\"1\" class=\"dataframe\">\n",
       "  <thead>\n",
       "    <tr style=\"text-align: right;\">\n",
       "      <th></th>\n",
       "      <th>open</th>\n",
       "      <th>high</th>\n",
       "      <th>low</th>\n",
       "      <th>close</th>\n",
       "      <th>cum_vol</th>\n",
       "      <th>cum_dollar</th>\n",
       "      <th>cum_ticks</th>\n",
       "      <th>avg</th>\n",
       "      <th>upper</th>\n",
       "      <th>lower</th>\n",
       "    </tr>\n",
       "    <tr>\n",
       "      <th>date_time</th>\n",
       "      <th></th>\n",
       "      <th></th>\n",
       "      <th></th>\n",
       "      <th></th>\n",
       "      <th></th>\n",
       "      <th></th>\n",
       "      <th></th>\n",
       "      <th></th>\n",
       "      <th></th>\n",
       "      <th></th>\n",
       "    </tr>\n",
       "  </thead>\n",
       "  <tbody>\n",
       "    <tr>\n",
       "      <th>2013-06-25 13:30:38.916</th>\n",
       "      <td>1581.00</td>\n",
       "      <td>1582.50</td>\n",
       "      <td>1579.75</td>\n",
       "      <td>1579.75</td>\n",
       "      <td>44399</td>\n",
       "      <td>70205864.25</td>\n",
       "      <td>10824</td>\n",
       "      <td>1567.355</td>\n",
       "      <td>1583.122795</td>\n",
       "      <td>1551.587205</td>\n",
       "    </tr>\n",
       "    <tr>\n",
       "      <th>2016-08-30 13:48:28.350</th>\n",
       "      <td>2177.50</td>\n",
       "      <td>2179.25</td>\n",
       "      <td>2177.25</td>\n",
       "      <td>2178.75</td>\n",
       "      <td>32136</td>\n",
       "      <td>70001687.00</td>\n",
       "      <td>3571</td>\n",
       "      <td>2176.685</td>\n",
       "      <td>2185.645691</td>\n",
       "      <td>2167.724309</td>\n",
       "    </tr>\n",
       "    <tr>\n",
       "      <th>2016-11-14 17:20:23.945</th>\n",
       "      <td>2156.50</td>\n",
       "      <td>2156.50</td>\n",
       "      <td>2153.25</td>\n",
       "      <td>2154.25</td>\n",
       "      <td>32526</td>\n",
       "      <td>70086527.00</td>\n",
       "      <td>4371</td>\n",
       "      <td>2161.205</td>\n",
       "      <td>2169.846789</td>\n",
       "      <td>2152.563211</td>\n",
       "    </tr>\n",
       "    <tr>\n",
       "      <th>2017-03-08 20:09:50.747</th>\n",
       "      <td>2366.50</td>\n",
       "      <td>2368.25</td>\n",
       "      <td>2366.25</td>\n",
       "      <td>2367.75</td>\n",
       "      <td>29613</td>\n",
       "      <td>70104969.00</td>\n",
       "      <td>2792</td>\n",
       "      <td>2368.115</td>\n",
       "      <td>2372.865091</td>\n",
       "      <td>2363.364909</td>\n",
       "    </tr>\n",
       "    <tr>\n",
       "      <th>2012-01-06 20:51:59.701</th>\n",
       "      <td>1274.50</td>\n",
       "      <td>1275.00</td>\n",
       "      <td>1272.50</td>\n",
       "      <td>1272.75</td>\n",
       "      <td>55121</td>\n",
       "      <td>70219152.75</td>\n",
       "      <td>12722</td>\n",
       "      <td>1272.685</td>\n",
       "      <td>1280.333403</td>\n",
       "      <td>1265.036597</td>\n",
       "    </tr>\n",
       "    <tr>\n",
       "      <th>2017-09-22 19:57:36.324</th>\n",
       "      <td>2500.00</td>\n",
       "      <td>2501.00</td>\n",
       "      <td>2499.50</td>\n",
       "      <td>2500.50</td>\n",
       "      <td>27999</td>\n",
       "      <td>70005870.00</td>\n",
       "      <td>2450</td>\n",
       "      <td>2498.575</td>\n",
       "      <td>2503.258068</td>\n",
       "      <td>2493.891932</td>\n",
       "    </tr>\n",
       "    <tr>\n",
       "      <th>2017-05-17 11:13:30.856</th>\n",
       "      <td>2383.50</td>\n",
       "      <td>2388.50</td>\n",
       "      <td>2383.25</td>\n",
       "      <td>2388.50</td>\n",
       "      <td>29433</td>\n",
       "      <td>70235144.00</td>\n",
       "      <td>3510</td>\n",
       "      <td>2396.345</td>\n",
       "      <td>2407.548994</td>\n",
       "      <td>2385.141006</td>\n",
       "    </tr>\n",
       "    <tr>\n",
       "      <th>2012-11-12 20:50:13.273</th>\n",
       "      <td>1377.00</td>\n",
       "      <td>1378.75</td>\n",
       "      <td>1376.25</td>\n",
       "      <td>1377.50</td>\n",
       "      <td>50820</td>\n",
       "      <td>70006436.00</td>\n",
       "      <td>11357</td>\n",
       "      <td>1378.895</td>\n",
       "      <td>1385.343453</td>\n",
       "      <td>1372.446547</td>\n",
       "    </tr>\n",
       "    <tr>\n",
       "      <th>2016-05-05 13:30:53.088</th>\n",
       "      <td>2050.25</td>\n",
       "      <td>2052.25</td>\n",
       "      <td>2049.50</td>\n",
       "      <td>2050.50</td>\n",
       "      <td>34133</td>\n",
       "      <td>70001196.25</td>\n",
       "      <td>4182</td>\n",
       "      <td>2046.440</td>\n",
       "      <td>2054.619467</td>\n",
       "      <td>2038.260533</td>\n",
       "    </tr>\n",
       "    <tr>\n",
       "      <th>2016-11-09 14:31:49.005</th>\n",
       "      <td>2126.75</td>\n",
       "      <td>2133.00</td>\n",
       "      <td>2126.75</td>\n",
       "      <td>2131.25</td>\n",
       "      <td>32868</td>\n",
       "      <td>70010151.25</td>\n",
       "      <td>5522</td>\n",
       "      <td>2077.520</td>\n",
       "      <td>2138.101775</td>\n",
       "      <td>2016.938225</td>\n",
       "    </tr>\n",
       "  </tbody>\n",
       "</table>\n",
       "</div>"
      ],
      "text/plain": [
       "                            open     high      low    close  cum_vol  \\\n",
       "date_time                                                              \n",
       "2013-06-25 13:30:38.916  1581.00  1582.50  1579.75  1579.75    44399   \n",
       "2016-08-30 13:48:28.350  2177.50  2179.25  2177.25  2178.75    32136   \n",
       "2016-11-14 17:20:23.945  2156.50  2156.50  2153.25  2154.25    32526   \n",
       "2017-03-08 20:09:50.747  2366.50  2368.25  2366.25  2367.75    29613   \n",
       "2012-01-06 20:51:59.701  1274.50  1275.00  1272.50  1272.75    55121   \n",
       "2017-09-22 19:57:36.324  2500.00  2501.00  2499.50  2500.50    27999   \n",
       "2017-05-17 11:13:30.856  2383.50  2388.50  2383.25  2388.50    29433   \n",
       "2012-11-12 20:50:13.273  1377.00  1378.75  1376.25  1377.50    50820   \n",
       "2016-05-05 13:30:53.088  2050.25  2052.25  2049.50  2050.50    34133   \n",
       "2016-11-09 14:31:49.005  2126.75  2133.00  2126.75  2131.25    32868   \n",
       "\n",
       "                          cum_dollar  cum_ticks       avg        upper  \\\n",
       "date_time                                                                \n",
       "2013-06-25 13:30:38.916  70205864.25      10824  1567.355  1583.122795   \n",
       "2016-08-30 13:48:28.350  70001687.00       3571  2176.685  2185.645691   \n",
       "2016-11-14 17:20:23.945  70086527.00       4371  2161.205  2169.846789   \n",
       "2017-03-08 20:09:50.747  70104969.00       2792  2368.115  2372.865091   \n",
       "2012-01-06 20:51:59.701  70219152.75      12722  1272.685  1280.333403   \n",
       "2017-09-22 19:57:36.324  70005870.00       2450  2498.575  2503.258068   \n",
       "2017-05-17 11:13:30.856  70235144.00       3510  2396.345  2407.548994   \n",
       "2012-11-12 20:50:13.273  70006436.00      11357  1378.895  1385.343453   \n",
       "2016-05-05 13:30:53.088  70001196.25       4182  2046.440  2054.619467   \n",
       "2016-11-09 14:31:49.005  70010151.25       5522  2077.520  2138.101775   \n",
       "\n",
       "                               lower  \n",
       "date_time                             \n",
       "2013-06-25 13:30:38.916  1551.587205  \n",
       "2016-08-30 13:48:28.350  2167.724309  \n",
       "2016-11-14 17:20:23.945  2152.563211  \n",
       "2017-03-08 20:09:50.747  2363.364909  \n",
       "2012-01-06 20:51:59.701  1265.036597  \n",
       "2017-09-22 19:57:36.324  2493.891932  \n",
       "2017-05-17 11:13:30.856  2385.141006  \n",
       "2012-11-12 20:50:13.273  1372.446547  \n",
       "2016-05-05 13:30:53.088  2038.260533  \n",
       "2016-11-09 14:31:49.005  2016.938225  "
      ]
     },
     "execution_count": 86,
     "metadata": {},
     "output_type": "execute_result"
    }
   ],
   "source": [
    "# compute bands\n",
    "window = 50\n",
    "data['avg'], data['upper'], data['lower'] = FinancialFunctions.bbands(data['close'], window, no_of_stdev=2)\n",
    "data.sample(10)"
   ]
  },
  {
   "cell_type": "code",
   "execution_count": 87,
   "metadata": {},
   "outputs": [
    {
     "name": "stdout",
     "output_type": "stream",
     "text": [
      "ADF Statistic: 3.903000\n",
      "p-value: 0.002016\n",
      "Critical values:\n",
      "\t1%: -3.430\n",
      "\t5%: -2.862\n",
      "\t10%: -2.567\n"
     ]
    }
   ],
   "source": [
    "# Compute frac diff\n",
    "fracs = frac_diff_ffd(data['close'].apply(np.log), differencing_amt=0.10, threshold=1e-5)\n",
    "\n",
    "result = adfuller(fracs, maxlag=2, regression='C', autolag='AIC', store=False, regresults=False)\n",
    "print('ADF Statistic: %f' % abs(round(result[0], 3)))\n",
    "print('p-value: %f' % result[1])\n",
    "print('Critical values:')\n",
    "for k, v in result[4].items():\n",
    "    print('\\t%s: %.3f' % (k, v))"
   ]
  },
  {
   "cell_type": "code",
   "execution_count": 88,
   "metadata": {},
   "outputs": [],
   "source": [
    "frac_df = pd.Series(data=fracs, index=data.index)\n",
    "frac_df.tail()\n",
    "data['fracdiff'] = [frac_df[x] for x in data.index]"
   ]
  },
  {
   "cell_type": "code",
   "execution_count": 89,
   "metadata": {},
   "outputs": [],
   "source": [
    "# Compute RSI\n",
    "rsi_df = get_rsi(data, window=14)\n",
    "data['rsi'] = pd.Series(data=rsi_df.values, index=data.index)\n",
    "\n",
    "# Drop the NaN values from our data set\n",
    "data.dropna(axis=0, how='any', inplace=True)"
   ]
  },
  {
   "cell_type": "code",
   "execution_count": 99,
   "metadata": {},
   "outputs": [],
   "source": [
    "# data['side'] = compute_side(data)\n",
    "long_signals = (data['close'] <= data['lower']) & (data['rsi'] <= 25)\n",
    "short_signals = (data['close'] >= data['upper']) & (data['rsi'] >= 75) \n",
    "data.loc[long_signals, 'side'] = 1\n",
    "data.loc[short_signals, 'side'] = -1\n",
    "\n",
    "# Remove Look ahead biase by lagging the signal\n",
    "data['side'] = data['side'].shift(1)\n"
   ]
  },
  {
   "cell_type": "code",
   "execution_count": 100,
   "metadata": {},
   "outputs": [],
   "source": [
    "# Save the raw data\n",
    "raw_data = data.copy()\n",
    "\n",
    "# Drop the NaN values from our data set\n",
    "data.dropna(axis=0, how='any', inplace=True)"
   ]
  },
  {
   "cell_type": "code",
   "execution_count": 101,
   "metadata": {},
   "outputs": [
    {
     "name": "stdout",
     "output_type": "stream",
     "text": [
      "-1.0    3555\n",
      " 1.0    3428\n",
      "Name: side, dtype: int64\n"
     ]
    }
   ],
   "source": [
    "# print(data.sample(5))\n",
    "print(data.side.value_counts())"
   ]
  },
  {
   "cell_type": "markdown",
   "metadata": {},
   "source": [
    "### Filter Events: CUSUM Filter\n",
    "Predict what will happen when a CUSUM event is triggered. Use the signal from the MAvg Strategy to determine the side of the bet."
   ]
  },
  {
   "cell_type": "code",
   "execution_count": 93,
   "metadata": {},
   "outputs": [
    {
     "name": "stdout",
     "output_type": "stream",
     "text": [
      "Calculating daily volatility for dynamic thresholds\n",
      "Applying Symmetric CUSUM filter.\n"
     ]
    },
    {
     "name": "stderr",
     "output_type": "stream",
     "text": [
      "100%|████████████████████████████████████████████████████████████████████████████████████████████████████████████████████████████████████████████████████████████| 6983/6983 [00:01<00:00, 6927.45it/s]\n"
     ]
    }
   ],
   "source": [
    "# Compute daily volatility\n",
    "daily_vol = CoreFunctions.get_daily_vol(close=data['close'], lookback=50)\n",
    "\n",
    "# Apply Symmetric CUSUM Filter and get timestamps for events\n",
    "# Note: Only the CUSUM filter needs a point estimate for volatility\n",
    "cusum_events = CoreFunctions.get_t_events(data['close'], threshold=daily_vol.mean() * 0.1)\n",
    "\n",
    "# Compute vertical barrier\n",
    "vertical_barriers = CoreFunctions.add_vertical_barrier(t_events=cusum_events, close=data['close'], num_days=1)"
   ]
  },
  {
   "cell_type": "code",
   "execution_count": 94,
   "metadata": {},
   "outputs": [
    {
     "name": "stderr",
     "output_type": "stream",
     "text": [
      "D:\\Documents\\WQU\\Courses\\14 - Capstone 690\\chap3\\research\\Chapter3\\mlfinlab\\corefns\\core_functions.py:205: FutureWarning: \n",
      "Passing list-likes to .loc or [] with any missing label will raise\n",
      "KeyError in the future, you can use .reindex() as an alternative.\n",
      "\n",
      "See the documentation here:\n",
      "https://pandas.pydata.org/pandas-docs/stable/indexing.html#deprecate-loc-reindex-listlike\n",
      "  target = target.loc[t_events]\n",
      "2019-03-07 21:30:11.144296 100.0% apply_pt_sl_on_t1 done after 0.04 minutes. Remaining 0.0 minutes.\n"
     ]
    }
   ],
   "source": [
    "pt_sl = [0, 2]\n",
    "triple_barrier_events = CoreFunctions.get_events(close=data['close'],\n",
    "                                  t_events=cusum_events,\n",
    "                                  pt_sl=pt_sl,\n",
    "                                  target=daily_vol,\n",
    "                                  min_ret=0.01,\n",
    "                                  num_threads=2,\n",
    "                                  vertical_barrier_times=vertical_barriers,\n",
    "                                  side=data['side'])"
   ]
  },
  {
   "cell_type": "code",
   "execution_count": 95,
   "metadata": {},
   "outputs": [
    {
     "data": {
      "text/plain": [
       " 1.0    856\n",
       "-1.0    842\n",
       "Name: side, dtype: int64"
      ]
     },
     "execution_count": 95,
     "metadata": {},
     "output_type": "execute_result"
    }
   ],
   "source": [
    "labels = CoreFunctions.get_bins(triple_barrier_events, data['close'])\n",
    "labels.side.value_counts()"
   ]
  },
  {
   "cell_type": "markdown",
   "metadata": {},
   "source": [
    "---\n",
    "### Results of Primary Model:\n",
    "What is the accuracy of predictions from the primary model (i.e., if the sec- ondary model does not filter the bets)? What are the precision, recall, and F1-scores?"
   ]
  },
  {
   "cell_type": "code",
   "execution_count": 63,
   "metadata": {},
   "outputs": [
    {
     "name": "stdout",
     "output_type": "stream",
     "text": [
      "              precision    recall  f1-score   support\n",
      "\n",
      "           0       0.00      0.00      0.00      1445\n",
      "           1       0.15      1.00      0.26       253\n",
      "\n",
      "   micro avg       0.15      0.15      0.15      1698\n",
      "   macro avg       0.07      0.50      0.13      1698\n",
      "weighted avg       0.02      0.15      0.04      1698\n",
      "\n",
      "Confusion Matrix\n",
      "[[   0 1445]\n",
      " [   0  253]]\n",
      "\n",
      "Accuracy\n",
      "0.14899882214369847\n"
     ]
    }
   ],
   "source": [
    "primary_forecast = pd.DataFrame(labels['bin'])\n",
    "primary_forecast['pred'] = 1\n",
    "primary_forecast.columns = ['actual', 'pred']\n",
    "\n",
    "# Performance Metrics\n",
    "actual = primary_forecast['actual']\n",
    "pred = primary_forecast['pred']\n",
    "print(classification_report(y_true=actual, y_pred=pred))\n",
    "\n",
    "print(\"Confusion Matrix\")\n",
    "print(confusion_matrix(actual, pred))\n",
    "\n",
    "print('')\n",
    "print(\"Accuracy\")\n",
    "print(accuracy_score(actual, pred))"
   ]
  },
  {
   "cell_type": "markdown",
   "metadata": {},
   "source": [
    "---\n",
    "## Fit a Meta Model\n",
    "Train a random forest to decide whether to trade or not (i.e 1 or 0 respectively) since the earlier model has decided the side (-1 or 1)\n",
    "\n",
    "Create the following features: \n",
    "* Volatility\n",
    "* Serial Correlation\n",
    "* The returns at the different lags from the serial correlation\n",
    "* The sides from the SMavg Strategy"
   ]
  },
  {
   "cell_type": "code",
   "execution_count": 64,
   "metadata": {},
   "outputs": [
    {
     "data": {
      "text/html": [
       "<div>\n",
       "<style scoped>\n",
       "    .dataframe tbody tr th:only-of-type {\n",
       "        vertical-align: middle;\n",
       "    }\n",
       "\n",
       "    .dataframe tbody tr th {\n",
       "        vertical-align: top;\n",
       "    }\n",
       "\n",
       "    .dataframe thead th {\n",
       "        text-align: right;\n",
       "    }\n",
       "</style>\n",
       "<table border=\"1\" class=\"dataframe\">\n",
       "  <thead>\n",
       "    <tr style=\"text-align: right;\">\n",
       "      <th></th>\n",
       "      <th>open</th>\n",
       "      <th>high</th>\n",
       "      <th>low</th>\n",
       "      <th>close</th>\n",
       "      <th>cum_vol</th>\n",
       "      <th>cum_dollar</th>\n",
       "      <th>cum_ticks</th>\n",
       "      <th>avg</th>\n",
       "      <th>upper</th>\n",
       "      <th>lower</th>\n",
       "      <th>fracdiff</th>\n",
       "      <th>rsi</th>\n",
       "      <th>side</th>\n",
       "    </tr>\n",
       "    <tr>\n",
       "      <th>date_time</th>\n",
       "      <th></th>\n",
       "      <th></th>\n",
       "      <th></th>\n",
       "      <th></th>\n",
       "      <th></th>\n",
       "      <th></th>\n",
       "      <th></th>\n",
       "      <th></th>\n",
       "      <th></th>\n",
       "      <th></th>\n",
       "      <th></th>\n",
       "      <th></th>\n",
       "      <th></th>\n",
       "    </tr>\n",
       "  </thead>\n",
       "  <tbody>\n",
       "    <tr>\n",
       "      <th>2011-09-02 12:08:00.131</th>\n",
       "      <td>1191.75</td>\n",
       "      <td>1193.75</td>\n",
       "      <td>1189.75</td>\n",
       "      <td>1192.00</td>\n",
       "      <td>58751</td>\n",
       "      <td>70015084.25</td>\n",
       "      <td>19832</td>\n",
       "      <td>1212.455</td>\n",
       "      <td>1229.830414</td>\n",
       "      <td>1195.079586</td>\n",
       "      <td>0.0</td>\n",
       "      <td>11.0</td>\n",
       "      <td>NaN</td>\n",
       "    </tr>\n",
       "    <tr>\n",
       "      <th>2011-09-02 12:30:35.193</th>\n",
       "      <td>1192.00</td>\n",
       "      <td>1198.50</td>\n",
       "      <td>1182.00</td>\n",
       "      <td>1183.25</td>\n",
       "      <td>58894</td>\n",
       "      <td>70005676.00</td>\n",
       "      <td>18835</td>\n",
       "      <td>1211.720</td>\n",
       "      <td>1230.816597</td>\n",
       "      <td>1192.623403</td>\n",
       "      <td>0.0</td>\n",
       "      <td>7.0</td>\n",
       "      <td>1.0</td>\n",
       "    </tr>\n",
       "    <tr>\n",
       "      <th>2011-09-02 12:34:43.063</th>\n",
       "      <td>1183.50</td>\n",
       "      <td>1185.50</td>\n",
       "      <td>1179.75</td>\n",
       "      <td>1180.25</td>\n",
       "      <td>59197</td>\n",
       "      <td>70003214.75</td>\n",
       "      <td>17995</td>\n",
       "      <td>1211.010</td>\n",
       "      <td>1232.037184</td>\n",
       "      <td>1189.982816</td>\n",
       "      <td>0.0</td>\n",
       "      <td>6.0</td>\n",
       "      <td>1.0</td>\n",
       "    </tr>\n",
       "    <tr>\n",
       "      <th>2011-09-02 12:46:13.588</th>\n",
       "      <td>1180.25</td>\n",
       "      <td>1185.25</td>\n",
       "      <td>1179.75</td>\n",
       "      <td>1182.50</td>\n",
       "      <td>59181</td>\n",
       "      <td>70015589.25</td>\n",
       "      <td>20245</td>\n",
       "      <td>1210.460</td>\n",
       "      <td>1232.980594</td>\n",
       "      <td>1187.939406</td>\n",
       "      <td>0.0</td>\n",
       "      <td>6.0</td>\n",
       "      <td>1.0</td>\n",
       "    </tr>\n",
       "    <tr>\n",
       "      <th>2011-09-02 13:16:37.863</th>\n",
       "      <td>1182.50</td>\n",
       "      <td>1184.00</td>\n",
       "      <td>1180.25</td>\n",
       "      <td>1180.50</td>\n",
       "      <td>59208</td>\n",
       "      <td>70001715.00</td>\n",
       "      <td>21976</td>\n",
       "      <td>1209.820</td>\n",
       "      <td>1233.870763</td>\n",
       "      <td>1185.769237</td>\n",
       "      <td>0.0</td>\n",
       "      <td>6.0</td>\n",
       "      <td>1.0</td>\n",
       "    </tr>\n",
       "  </tbody>\n",
       "</table>\n",
       "</div>"
      ],
      "text/plain": [
       "                            open     high      low    close  cum_vol  \\\n",
       "date_time                                                              \n",
       "2011-09-02 12:08:00.131  1191.75  1193.75  1189.75  1192.00    58751   \n",
       "2011-09-02 12:30:35.193  1192.00  1198.50  1182.00  1183.25    58894   \n",
       "2011-09-02 12:34:43.063  1183.50  1185.50  1179.75  1180.25    59197   \n",
       "2011-09-02 12:46:13.588  1180.25  1185.25  1179.75  1182.50    59181   \n",
       "2011-09-02 13:16:37.863  1182.50  1184.00  1180.25  1180.50    59208   \n",
       "\n",
       "                          cum_dollar  cum_ticks       avg        upper  \\\n",
       "date_time                                                                \n",
       "2011-09-02 12:08:00.131  70015084.25      19832  1212.455  1229.830414   \n",
       "2011-09-02 12:30:35.193  70005676.00      18835  1211.720  1230.816597   \n",
       "2011-09-02 12:34:43.063  70003214.75      17995  1211.010  1232.037184   \n",
       "2011-09-02 12:46:13.588  70015589.25      20245  1210.460  1232.980594   \n",
       "2011-09-02 13:16:37.863  70001715.00      21976  1209.820  1233.870763   \n",
       "\n",
       "                               lower  fracdiff   rsi  side  \n",
       "date_time                                                   \n",
       "2011-09-02 12:08:00.131  1195.079586       0.0  11.0   NaN  \n",
       "2011-09-02 12:30:35.193  1192.623403       0.0   7.0   1.0  \n",
       "2011-09-02 12:34:43.063  1189.982816       0.0   6.0   1.0  \n",
       "2011-09-02 12:46:13.588  1187.939406       0.0   6.0   1.0  \n",
       "2011-09-02 13:16:37.863  1185.769237       0.0   6.0   1.0  "
      ]
     },
     "execution_count": 64,
     "metadata": {},
     "output_type": "execute_result"
    }
   ],
   "source": [
    "raw_data.head()"
   ]
  },
  {
   "cell_type": "markdown",
   "metadata": {},
   "source": [
    "### Features"
   ]
  },
  {
   "cell_type": "code",
   "execution_count": 65,
   "metadata": {},
   "outputs": [],
   "source": [
    "# Log Returns\n",
    "raw_data['log_ret'] = np.log(raw_data['close']).diff()\n",
    "\n",
    "# Momentum\n",
    "raw_data['mom1'] = raw_data['close'].pct_change(periods=1)\n",
    "raw_data['mom2'] = raw_data['close'].pct_change(periods=2)\n",
    "raw_data['mom3'] = raw_data['close'].pct_change(periods=3)\n",
    "raw_data['mom4'] = raw_data['close'].pct_change(periods=4)\n",
    "raw_data['mom5'] = raw_data['close'].pct_change(periods=5)\n",
    "\n",
    "# Volatility\n",
    "window_stdev = 50\n",
    "raw_data['volatility'] = raw_data['log_ret'].rolling(window=window_stdev, min_periods=window_stdev, center=False).std()\n",
    "\n",
    "# Serial Correlation (Takes about 4 minutes)\n",
    "window_autocorr = 50\n",
    "\n",
    "raw_data['autocorr_1'] = raw_data['log_ret'].rolling(window=window_autocorr, min_periods=window_autocorr, center=False).apply(lambda x: x.autocorr(lag=1), raw=False)\n",
    "raw_data['autocorr_2'] = raw_data['log_ret'].rolling(window=window_autocorr, min_periods=window_autocorr, center=False).apply(lambda x: x.autocorr(lag=2), raw=False)\n",
    "raw_data['autocorr_3'] = raw_data['log_ret'].rolling(window=window_autocorr, min_periods=window_autocorr, center=False).apply(lambda x: x.autocorr(lag=3), raw=False)\n",
    "raw_data['autocorr_4'] = raw_data['log_ret'].rolling(window=window_autocorr, min_periods=window_autocorr, center=False).apply(lambda x: x.autocorr(lag=4), raw=False)\n",
    "raw_data['autocorr_5'] = raw_data['log_ret'].rolling(window=window_autocorr, min_periods=window_autocorr, center=False).apply(lambda x: x.autocorr(lag=5), raw=False)\n",
    "\n",
    "# Get the various log -t returns\n",
    "raw_data['log_t1'] = raw_data['log_ret'].shift(1)\n",
    "raw_data['log_t2'] = raw_data['log_ret'].shift(2)\n",
    "raw_data['log_t3'] = raw_data['log_ret'].shift(3)\n",
    "raw_data['log_t4'] = raw_data['log_ret'].shift(4)\n",
    "raw_data['log_t5'] = raw_data['log_ret'].shift(5)\n",
    "\n",
    "# Add fast and slow moving averages\n",
    "fast_window = 7\n",
    "slow_window = 15\n",
    "\n",
    "raw_data['fast_mavg'] = raw_data['close'].rolling(window=fast_window, min_periods=fast_window, center=False).mean()\n",
    "raw_data['slow_mavg'] = raw_data['close'].rolling(window=slow_window, min_periods=slow_window, center=False).mean()\n"
   ]
  },
  {
   "cell_type": "code",
   "execution_count": 66,
   "metadata": {},
   "outputs": [],
   "source": [
    "# Re compute sides\n",
    "raw_data['side'] = np.nan\n",
    "\n",
    "long_signals = (raw_data['close'] <= raw_data['lower']) & (raw_data['rsi'] <= 25)\n",
    "short_signals = (raw_data['close'] >= raw_data['upper']) & (raw_data['rsi'] >= 75) \n",
    "\n",
    "raw_data.loc[long_signals, 'side'] = 1\n",
    "raw_data.loc[short_signals, 'side'] = -1"
   ]
  },
  {
   "cell_type": "code",
   "execution_count": 67,
   "metadata": {},
   "outputs": [],
   "source": [
    "# Remove look ahead bias\n",
    "raw_data = raw_data.shift(1)"
   ]
  },
  {
   "cell_type": "markdown",
   "metadata": {},
   "source": [
    "#### Now get the data at the specified events"
   ]
  },
  {
   "cell_type": "code",
   "execution_count": 68,
   "metadata": {},
   "outputs": [
    {
     "data": {
      "text/html": [
       "<div>\n",
       "<style scoped>\n",
       "    .dataframe tbody tr th:only-of-type {\n",
       "        vertical-align: middle;\n",
       "    }\n",
       "\n",
       "    .dataframe tbody tr th {\n",
       "        vertical-align: top;\n",
       "    }\n",
       "\n",
       "    .dataframe thead th {\n",
       "        text-align: right;\n",
       "    }\n",
       "</style>\n",
       "<table border=\"1\" class=\"dataframe\">\n",
       "  <thead>\n",
       "    <tr style=\"text-align: right;\">\n",
       "      <th></th>\n",
       "      <th>avg</th>\n",
       "      <th>upper</th>\n",
       "      <th>lower</th>\n",
       "      <th>fracdiff</th>\n",
       "      <th>rsi</th>\n",
       "      <th>side</th>\n",
       "      <th>log_ret</th>\n",
       "      <th>mom1</th>\n",
       "      <th>mom2</th>\n",
       "      <th>mom3</th>\n",
       "      <th>...</th>\n",
       "      <th>autocorr_1</th>\n",
       "      <th>autocorr_2</th>\n",
       "      <th>autocorr_3</th>\n",
       "      <th>autocorr_4</th>\n",
       "      <th>autocorr_5</th>\n",
       "      <th>log_t1</th>\n",
       "      <th>log_t2</th>\n",
       "      <th>log_t3</th>\n",
       "      <th>log_t4</th>\n",
       "      <th>log_t5</th>\n",
       "    </tr>\n",
       "  </thead>\n",
       "  <tbody>\n",
       "    <tr>\n",
       "      <th>2011-09-06 19:58:52.128</th>\n",
       "      <td>1149.345</td>\n",
       "      <td>1162.424385</td>\n",
       "      <td>1136.265615</td>\n",
       "      <td>0.0</td>\n",
       "      <td>75.0</td>\n",
       "      <td>-1.0</td>\n",
       "      <td>0.000645</td>\n",
       "      <td>0.000645</td>\n",
       "      <td>0.003667</td>\n",
       "      <td>0.004968</td>\n",
       "      <td>...</td>\n",
       "      <td>-0.372128</td>\n",
       "      <td>0.483882</td>\n",
       "      <td>-0.366536</td>\n",
       "      <td>0.114917</td>\n",
       "      <td>-0.576573</td>\n",
       "      <td>0.003015</td>\n",
       "      <td>0.001295</td>\n",
       "      <td>0.003462</td>\n",
       "      <td>-0.000650</td>\n",
       "      <td>0.000867</td>\n",
       "    </tr>\n",
       "    <tr>\n",
       "      <th>2011-09-06 20:10:24.430</th>\n",
       "      <td>1150.170</td>\n",
       "      <td>1164.474431</td>\n",
       "      <td>1135.865569</td>\n",
       "      <td>0.0</td>\n",
       "      <td>78.0</td>\n",
       "      <td>-1.0</td>\n",
       "      <td>-0.000429</td>\n",
       "      <td>-0.000429</td>\n",
       "      <td>0.001504</td>\n",
       "      <td>0.002151</td>\n",
       "      <td>...</td>\n",
       "      <td>-0.261291</td>\n",
       "      <td>0.385507</td>\n",
       "      <td>-0.281836</td>\n",
       "      <td>0.076816</td>\n",
       "      <td>-0.496466</td>\n",
       "      <td>0.001932</td>\n",
       "      <td>0.000645</td>\n",
       "      <td>0.003015</td>\n",
       "      <td>0.001295</td>\n",
       "      <td>0.003462</td>\n",
       "    </tr>\n",
       "    <tr>\n",
       "      <th>2011-09-07 06:49:33.590</th>\n",
       "      <td>1151.010</td>\n",
       "      <td>1166.499285</td>\n",
       "      <td>1135.520715</td>\n",
       "      <td>0.0</td>\n",
       "      <td>81.0</td>\n",
       "      <td>-1.0</td>\n",
       "      <td>0.004072</td>\n",
       "      <td>0.004081</td>\n",
       "      <td>0.003219</td>\n",
       "      <td>0.002789</td>\n",
       "      <td>...</td>\n",
       "      <td>-0.208932</td>\n",
       "      <td>0.322210</td>\n",
       "      <td>-0.125941</td>\n",
       "      <td>-0.082343</td>\n",
       "      <td>-0.302810</td>\n",
       "      <td>-0.000859</td>\n",
       "      <td>-0.000429</td>\n",
       "      <td>0.001932</td>\n",
       "      <td>0.000645</td>\n",
       "      <td>0.003015</td>\n",
       "    </tr>\n",
       "    <tr>\n",
       "      <th>2011-09-07 07:54:46.354</th>\n",
       "      <td>1151.555</td>\n",
       "      <td>1168.595555</td>\n",
       "      <td>1134.514445</td>\n",
       "      <td>0.0</td>\n",
       "      <td>89.0</td>\n",
       "      <td>-1.0</td>\n",
       "      <td>0.006397</td>\n",
       "      <td>0.006417</td>\n",
       "      <td>0.010524</td>\n",
       "      <td>0.009657</td>\n",
       "      <td>...</td>\n",
       "      <td>-0.129004</td>\n",
       "      <td>0.293137</td>\n",
       "      <td>-0.134276</td>\n",
       "      <td>-0.057213</td>\n",
       "      <td>-0.267518</td>\n",
       "      <td>0.004072</td>\n",
       "      <td>-0.000859</td>\n",
       "      <td>-0.000429</td>\n",
       "      <td>0.001932</td>\n",
       "      <td>0.000645</td>\n",
       "    </tr>\n",
       "    <tr>\n",
       "      <th>2011-09-07 08:36:06.996</th>\n",
       "      <td>1151.935</td>\n",
       "      <td>1170.056700</td>\n",
       "      <td>1133.813300</td>\n",
       "      <td>0.0</td>\n",
       "      <td>89.0</td>\n",
       "      <td>-1.0</td>\n",
       "      <td>-0.002341</td>\n",
       "      <td>-0.002338</td>\n",
       "      <td>0.004064</td>\n",
       "      <td>0.008162</td>\n",
       "      <td>...</td>\n",
       "      <td>-0.110341</td>\n",
       "      <td>0.211740</td>\n",
       "      <td>0.029460</td>\n",
       "      <td>-0.038646</td>\n",
       "      <td>-0.271445</td>\n",
       "      <td>0.006397</td>\n",
       "      <td>0.004072</td>\n",
       "      <td>-0.000859</td>\n",
       "      <td>-0.000429</td>\n",
       "      <td>0.001932</td>\n",
       "    </tr>\n",
       "  </tbody>\n",
       "</table>\n",
       "<p>5 rows × 23 columns</p>\n",
       "</div>"
      ],
      "text/plain": [
       "                              avg        upper        lower  fracdiff   rsi  \\\n",
       "2011-09-06 19:58:52.128  1149.345  1162.424385  1136.265615       0.0  75.0   \n",
       "2011-09-06 20:10:24.430  1150.170  1164.474431  1135.865569       0.0  78.0   \n",
       "2011-09-07 06:49:33.590  1151.010  1166.499285  1135.520715       0.0  81.0   \n",
       "2011-09-07 07:54:46.354  1151.555  1168.595555  1134.514445       0.0  89.0   \n",
       "2011-09-07 08:36:06.996  1151.935  1170.056700  1133.813300       0.0  89.0   \n",
       "\n",
       "                         side   log_ret      mom1      mom2      mom3  \\\n",
       "2011-09-06 19:58:52.128  -1.0  0.000645  0.000645  0.003667  0.004968   \n",
       "2011-09-06 20:10:24.430  -1.0 -0.000429 -0.000429  0.001504  0.002151   \n",
       "2011-09-07 06:49:33.590  -1.0  0.004072  0.004081  0.003219  0.002789   \n",
       "2011-09-07 07:54:46.354  -1.0  0.006397  0.006417  0.010524  0.009657   \n",
       "2011-09-07 08:36:06.996  -1.0 -0.002341 -0.002338  0.004064  0.008162   \n",
       "\n",
       "                           ...     autocorr_1  autocorr_2  autocorr_3  \\\n",
       "2011-09-06 19:58:52.128    ...      -0.372128    0.483882   -0.366536   \n",
       "2011-09-06 20:10:24.430    ...      -0.261291    0.385507   -0.281836   \n",
       "2011-09-07 06:49:33.590    ...      -0.208932    0.322210   -0.125941   \n",
       "2011-09-07 07:54:46.354    ...      -0.129004    0.293137   -0.134276   \n",
       "2011-09-07 08:36:06.996    ...      -0.110341    0.211740    0.029460   \n",
       "\n",
       "                         autocorr_4  autocorr_5    log_t1    log_t2    log_t3  \\\n",
       "2011-09-06 19:58:52.128    0.114917   -0.576573  0.003015  0.001295  0.003462   \n",
       "2011-09-06 20:10:24.430    0.076816   -0.496466  0.001932  0.000645  0.003015   \n",
       "2011-09-07 06:49:33.590   -0.082343   -0.302810 -0.000859 -0.000429  0.001932   \n",
       "2011-09-07 07:54:46.354   -0.057213   -0.267518  0.004072 -0.000859 -0.000429   \n",
       "2011-09-07 08:36:06.996   -0.038646   -0.271445  0.006397  0.004072 -0.000859   \n",
       "\n",
       "                           log_t4    log_t5  \n",
       "2011-09-06 19:58:52.128 -0.000650  0.000867  \n",
       "2011-09-06 20:10:24.430  0.001295  0.003462  \n",
       "2011-09-07 06:49:33.590  0.000645  0.003015  \n",
       "2011-09-07 07:54:46.354  0.001932  0.000645  \n",
       "2011-09-07 08:36:06.996 -0.000429  0.001932  \n",
       "\n",
       "[5 rows x 23 columns]"
      ]
     },
     "execution_count": 68,
     "metadata": {},
     "output_type": "execute_result"
    }
   ],
   "source": [
    "# Get features at event dates\n",
    "X = raw_data.loc[labels.index, :]\n",
    "\n",
    "# Drop unwanted columns\n",
    "X.drop(['open', 'high', 'low', 'close', 'cum_vol', 'cum_dollar', 'cum_ticks','fast_mavg', 'slow_mavg',], axis=1, inplace=True)\n",
    "\n",
    "y = labels['bin']\n",
    "X.head()"
   ]
  },
  {
   "cell_type": "markdown",
   "metadata": {},
   "source": [
    "### Fit a model"
   ]
  },
  {
   "cell_type": "code",
   "execution_count": 69,
   "metadata": {},
   "outputs": [],
   "source": [
    "# Split data\n",
    "X_train, X_test, y_train, y_test = train_test_split(X, y, test_size=0.2, shuffle=False)"
   ]
  },
  {
   "cell_type": "code",
   "execution_count": 70,
   "metadata": {},
   "outputs": [
    {
     "data": {
      "text/plain": [
       "RandomForestClassifier(bootstrap=True, class_weight=None, criterion='entropy',\n",
       "            max_depth=9, max_features='auto', max_leaf_nodes=None,\n",
       "            min_impurity_decrease=0.0, min_impurity_split=None,\n",
       "            min_samples_leaf=1, min_samples_split=2,\n",
       "            min_weight_fraction_leaf=0.0, n_estimators=50, n_jobs=None,\n",
       "            oob_score=False, random_state=42, verbose=0, warm_start=False)"
      ]
     },
     "execution_count": 70,
     "metadata": {},
     "output_type": "execute_result"
    }
   ],
   "source": [
    "# Random Forest Model\n",
    "n_estimator = 50\n",
    "c_random_state = 42\n",
    "depth = 9\n",
    "\n",
    "rf = RandomForestClassifier(max_depth=depth, n_estimators=n_estimator,\n",
    "                            criterion='entropy', random_state=c_random_state)\n",
    "rf.fit(X_train, y_train.values.ravel())"
   ]
  },
  {
   "cell_type": "markdown",
   "metadata": {},
   "source": [
    "#### Training Metrics"
   ]
  },
  {
   "cell_type": "code",
   "execution_count": 71,
   "metadata": {},
   "outputs": [
    {
     "name": "stdout",
     "output_type": "stream",
     "text": [
      "              precision    recall  f1-score   support\n",
      "\n",
      "           0       0.91      1.00      0.96      1173\n",
      "           1       1.00      0.41      0.58       185\n",
      "\n",
      "   micro avg       0.92      0.92      0.92      1358\n",
      "   macro avg       0.96      0.70      0.77      1358\n",
      "weighted avg       0.93      0.92      0.90      1358\n",
      "\n",
      "Confusion Matrix\n",
      "[[1173    0]\n",
      " [ 110   75]]\n",
      "\n",
      "Accuracy\n",
      "0.14899882214369847\n"
     ]
    },
    {
     "data": {
      "image/png": "[encoded data removed]",
      "text/plain": [
       "<Figure size 432x288 with 1 Axes>"
      ]
     },
     "metadata": {
      "needs_background": "light"
     },
     "output_type": "display_data"
    }
   ],
   "source": [
    "# Performance Metrics\n",
    "y_pred_rf = rf.predict_proba(X_train)[:, 1]\n",
    "y_pred = rf.predict(X_train)\n",
    "fpr_rf, tpr_rf, _ = roc_curve(y_train, y_pred_rf)\n",
    "print(classification_report(y_train, y_pred))\n",
    "\n",
    "print(\"Confusion Matrix\")\n",
    "print(confusion_matrix(y_train, y_pred))\n",
    "\n",
    "print('')\n",
    "print(\"Accuracy\")\n",
    "print(accuracy_score(actual, pred))\n",
    "\n",
    "plt.figure(1)\n",
    "plt.plot([0, 1], [0, 1], 'k--')\n",
    "plt.plot(fpr_rf, tpr_rf, label='RF')\n",
    "plt.xlabel('False positive rate')\n",
    "plt.ylabel('True positive rate')\n",
    "plt.title('ROC curve')\n",
    "plt.legend(loc='best')\n",
    "plt.show()"
   ]
  },
  {
   "cell_type": "markdown",
   "metadata": {},
   "source": [
    "This is overfitting big time "
   ]
  },
  {
   "cell_type": "markdown",
   "metadata": {},
   "source": [
    "#### Test Metrics"
   ]
  },
  {
   "cell_type": "code",
   "execution_count": 72,
   "metadata": {},
   "outputs": [
    {
     "name": "stderr",
     "output_type": "stream",
     "text": [
      "c:\\users\\asingh\\anaconda3\\envs\\cap\\lib\\site-packages\\sklearn\\metrics\\classification.py:1143: UndefinedMetricWarning: Precision and F-score are ill-defined and being set to 0.0 in labels with no predicted samples.\n",
      "  'precision', 'predicted', average, warn_for)\n"
     ]
    },
    {
     "name": "stdout",
     "output_type": "stream",
     "text": [
      "              precision    recall  f1-score   support\n",
      "\n",
      "           0       0.80      1.00      0.89       272\n",
      "           1       0.00      0.00      0.00        68\n",
      "\n",
      "   micro avg       0.80      0.80      0.80       340\n",
      "   macro avg       0.40      0.50      0.44       340\n",
      "weighted avg       0.64      0.80      0.71       340\n",
      "\n",
      "Confusion Matrix\n",
      "[[272   0]\n",
      " [ 68   0]]\n",
      "\n",
      "Accuracy\n",
      "0.14899882214369847\n"
     ]
    },
    {
     "data": {
      "image/png": "[encoded data removed]",
      "text/plain": [
       "<Figure size 432x288 with 1 Axes>"
      ]
     },
     "metadata": {
      "needs_background": "light"
     },
     "output_type": "display_data"
    }
   ],
   "source": [
    "# Performance Metrics\n",
    "y_pred_rf = rf.predict_proba(X_test)[:, 1]\n",
    "y_pred = rf.predict(X_test)\n",
    "fpr_rf, tpr_rf, _ = roc_curve(y_test, y_pred_rf)\n",
    "print(classification_report(y_test, y_pred))\n",
    "\n",
    "print(\"Confusion Matrix\")\n",
    "print(confusion_matrix(y_test, y_pred))\n",
    "\n",
    "print('')\n",
    "print(\"Accuracy\")\n",
    "print(accuracy_score(actual, pred))\n",
    "\n",
    "plt.figure(1)\n",
    "plt.plot([0, 1], [0, 1], 'k--')\n",
    "plt.plot(fpr_rf, tpr_rf, label='RF')\n",
    "plt.xlabel('False positive rate')\n",
    "plt.ylabel('True positive rate')\n",
    "plt.title('ROC curve')\n",
    "plt.legend(loc='best')\n",
    "plt.show()"
   ]
  },
  {
   "cell_type": "code",
   "execution_count": 73,
   "metadata": {},
   "outputs": [
    {
     "data": {
      "image/png": "[encoded data removed]",
      "text/plain": [
       "<Figure size 1080x360 with 1 Axes>"
      ]
     },
     "metadata": {
      "needs_background": "light"
     },
     "output_type": "display_data"
    }
   ],
   "source": [
    "# Feature Importance\n",
    "title = 'Feature Importance:'\n",
    "figsize = (15, 5)\n",
    "\n",
    "feat_imp = pd.DataFrame({'Importance':rf.feature_importances_})    \n",
    "feat_imp['feature'] = X.columns\n",
    "feat_imp.sort_values(by='Importance', ascending=False, inplace=True)\n",
    "feat_imp = feat_imp\n",
    "\n",
    "feat_imp.sort_values(by='Importance', inplace=True)\n",
    "feat_imp = feat_imp.set_index('feature', drop=True)\n",
    "feat_imp.plot.barh(title=title, figsize=figsize)\n",
    "plt.xlabel('Feature Importance Score')\n",
    "plt.show()"
   ]
  },
  {
   "cell_type": "markdown",
   "metadata": {},
   "source": [
    "Note how low the side is ranked. If we look at the performance of the primary model we will see that the M-R strategy gets only 21% of the trades correct."
   ]
  },
  {
   "cell_type": "markdown",
   "metadata": {},
   "source": [
    "---\n",
    "### Use PCA to shrink the predictor space"
   ]
  },
  {
   "cell_type": "code",
   "execution_count": 74,
   "metadata": {},
   "outputs": [
    {
     "name": "stdout",
     "output_type": "stream",
     "text": [
      "13\n"
     ]
    }
   ],
   "source": [
    "# standardize the data\n",
    "scaler = StandardScaler()\n",
    "\n",
    "# fit the training set only\n",
    "scaler.fit(X_train)\n",
    "\n",
    "# Apply the transform to both training and test sets\n",
    "X_train_std = scaler.transform(X_train)\n",
    "X_test_std = scaler.transform(X_test)\n",
    "\n",
    "# make an instance of the PCA model with 95% coverage\n",
    "pca = PCA(0.95)\n",
    "\n",
    "# fit teh PCA model\n",
    "pca.fit(X_train_std)\n",
    "print(pca.n_components_)\n",
    "\n",
    "# transform both training and test sets\n",
    "X_train_pca = pca.transform(X_train_std)\n",
    "X_test_pca = pca.transform(X_test_std)"
   ]
  },
  {
   "cell_type": "markdown",
   "metadata": {},
   "source": [
    "### Training Metrics (PCA)"
   ]
  },
  {
   "cell_type": "code",
   "execution_count": 75,
   "metadata": {},
   "outputs": [
    {
     "name": "stdout",
     "output_type": "stream",
     "text": [
      "              precision    recall  f1-score   support\n",
      "\n",
      "           0       0.90      1.00      0.94      1173\n",
      "           1       1.00      0.26      0.41       185\n",
      "\n",
      "   micro avg       0.90      0.90      0.90      1358\n",
      "   macro avg       0.95      0.63      0.68      1358\n",
      "weighted avg       0.91      0.90      0.87      1358\n",
      "\n",
      "Confusion Matrix\n",
      "[[1173    0]\n",
      " [ 137   48]]\n",
      "\n",
      "Accuracy\n",
      "0.14899882214369847\n"
     ]
    },
    {
     "data": {
      "image/png": "[encoded data removed]",
      "text/plain": [
       "<Figure size 432x288 with 1 Axes>"
      ]
     },
     "metadata": {
      "needs_background": "light"
     },
     "output_type": "display_data"
    }
   ],
   "source": [
    "# Apply RF \n",
    "rf = RandomForestClassifier(max_depth=depth, n_estimators=n_estimator,\n",
    "                            criterion='entropy', random_state=c_random_state)\n",
    "rf.fit(X_train_pca, y_train.values.ravel())\n",
    "\n",
    "# Performance Metrics\n",
    "y_pred_rf = rf.predict_proba(X_train_pca)[:, 1]\n",
    "y_pred = rf.predict(X_train_pca)\n",
    "\n",
    "fpr_rf, tpr_rf, _ = roc_curve(y_train, y_pred_rf)\n",
    "print(classification_report(y_train, y_pred))\n",
    "\n",
    "print(\"Confusion Matrix\")\n",
    "print(confusion_matrix(y_train, y_pred))\n",
    "\n",
    "print('')\n",
    "print(\"Accuracy\")\n",
    "print(accuracy_score(actual, pred))\n",
    "\n",
    "plt.figure(1)\n",
    "plt.plot([0, 1], [0, 1], 'k--')\n",
    "plt.plot(fpr_rf, tpr_rf, label='RF')\n",
    "plt.xlabel('False positive rate')\n",
    "plt.ylabel('True positive rate')\n",
    "plt.title('ROC curve')\n",
    "plt.legend(loc='best')\n",
    "plt.show()"
   ]
  },
  {
   "cell_type": "markdown",
   "metadata": {},
   "source": [
    "### Test Metrics (PCA)"
   ]
  },
  {
   "cell_type": "code",
   "execution_count": 76,
   "metadata": {},
   "outputs": [
    {
     "name": "stderr",
     "output_type": "stream",
     "text": [
      "c:\\users\\asingh\\anaconda3\\envs\\cap\\lib\\site-packages\\sklearn\\metrics\\classification.py:1143: UndefinedMetricWarning: Precision and F-score are ill-defined and being set to 0.0 in labels with no predicted samples.\n",
      "  'precision', 'predicted', average, warn_for)\n"
     ]
    },
    {
     "name": "stdout",
     "output_type": "stream",
     "text": [
      "              precision    recall  f1-score   support\n",
      "\n",
      "           0       0.80      1.00      0.89       272\n",
      "           1       0.00      0.00      0.00        68\n",
      "\n",
      "   micro avg       0.80      0.80      0.80       340\n",
      "   macro avg       0.40      0.50      0.44       340\n",
      "weighted avg       0.64      0.80      0.71       340\n",
      "\n",
      "Confusion Matrix\n",
      "[[272   0]\n",
      " [ 68   0]]\n",
      "\n",
      "Accuracy\n",
      "0.14899882214369847\n"
     ]
    },
    {
     "data": {
      "image/png": "[encoded data removed]",
      "text/plain": [
       "<Figure size 432x288 with 1 Axes>"
      ]
     },
     "metadata": {
      "needs_background": "light"
     },
     "output_type": "display_data"
    }
   ],
   "source": [
    "# Performance Metrics\n",
    "y_pred_rf = rf.predict_proba(X_test_pca)[:, 1]\n",
    "y_pred = rf.predict(X_test_pca)\n",
    "\n",
    "fpr_rf, tpr_rf, _ = roc_curve(y_test, y_pred_rf)\n",
    "print(classification_report(y_test, y_pred))\n",
    "\n",
    "print(\"Confusion Matrix\")\n",
    "print(confusion_matrix(y_test, y_pred))\n",
    "\n",
    "print('')\n",
    "print(\"Accuracy\")\n",
    "print(accuracy_score(actual, pred))\n",
    "\n",
    "plt.figure(1)\n",
    "plt.plot([0, 1], [0, 1], 'k--')\n",
    "plt.plot(fpr_rf, tpr_rf, label='RF')\n",
    "plt.xlabel('False positive rate')\n",
    "plt.ylabel('True positive rate')\n",
    "plt.title('ROC curve')\n",
    "plt.legend(loc='best')\n",
    "plt.show()"
   ]
  },
  {
   "cell_type": "markdown",
   "metadata": {},
   "source": [
    "---\n",
    "## Performance Tear Sheets"
   ]
  },
  {
   "cell_type": "code",
   "execution_count": 77,
   "metadata": {},
   "outputs": [
    {
     "data": {
      "text/html": [
       "<table border=\"1\" class=\"dataframe\">\n",
       "  <thead>\n",
       "    <tr style=\"text-align: right;\"><th>Start date</th><td colspan=2>2015-12-03</td></tr>\n",
       "    <tr style=\"text-align: right;\"><th>End date</th><td colspan=2>2017-05-19</td></tr>\n",
       "    <tr style=\"text-align: right;\"><th>Total months</th><td colspan=2>16</td></tr>\n",
       "    <tr style=\"text-align: right;\">\n",
       "      <th></th>\n",
       "      <th>Backtest</th>\n",
       "    </tr>\n",
       "  </thead>\n",
       "  <tbody>\n",
       "    <tr>\n",
       "      <th>Annual return</th>\n",
       "      <td>106.1%</td>\n",
       "    </tr>\n",
       "    <tr>\n",
       "      <th>Cumulative returns</th>\n",
       "      <td>165.2%</td>\n",
       "    </tr>\n",
       "    <tr>\n",
       "      <th>Annual volatility</th>\n",
       "      <td>25.3%</td>\n",
       "    </tr>\n",
       "    <tr>\n",
       "      <th>Sharpe ratio</th>\n",
       "      <td>2.98</td>\n",
       "    </tr>\n",
       "    <tr>\n",
       "      <th>Calmar ratio</th>\n",
       "      <td>2.66</td>\n",
       "    </tr>\n",
       "    <tr>\n",
       "      <th>Stability</th>\n",
       "      <td>0.82</td>\n",
       "    </tr>\n",
       "    <tr>\n",
       "      <th>Max drawdown</th>\n",
       "      <td>-39.9%</td>\n",
       "    </tr>\n",
       "    <tr>\n",
       "      <th>Omega ratio</th>\n",
       "      <td>1.68</td>\n",
       "    </tr>\n",
       "    <tr>\n",
       "      <th>Sortino ratio</th>\n",
       "      <td>5.91</td>\n",
       "    </tr>\n",
       "    <tr>\n",
       "      <th>Skew</th>\n",
       "      <td>1.10</td>\n",
       "    </tr>\n",
       "    <tr>\n",
       "      <th>Kurtosis</th>\n",
       "      <td>2.50</td>\n",
       "    </tr>\n",
       "    <tr>\n",
       "      <th>Tail ratio</th>\n",
       "      <td>1.40</td>\n",
       "    </tr>\n",
       "    <tr>\n",
       "      <th>Daily value at risk</th>\n",
       "      <td>-2.9%</td>\n",
       "    </tr>\n",
       "  </tbody>\n",
       "</table>"
      ],
      "text/plain": [
       "<IPython.core.display.HTML object>"
      ]
     },
     "metadata": {},
     "output_type": "display_data"
    },
    {
     "name": "stdout",
     "output_type": "stream",
     "text": [
      "None\n"
     ]
    },
    {
     "name": "stderr",
     "output_type": "stream",
     "text": [
      "c:\\users\\asingh\\anaconda3\\envs\\cap\\lib\\site-packages\\numpy\\core\\fromnumeric.py:56: FutureWarning: 'argmin' is deprecated, use 'idxmin' instead. The behavior of 'argmin'\n",
      "will be corrected to return the positional minimum in the future.\n",
      "Use 'series.values.argmin' to get the position of the minimum now.\n",
      "  return getattr(obj, method)(*args, **kwds)\n"
     ]
    },
    {
     "data": {
      "text/html": [
       "<table border=\"1\" class=\"dataframe\">\n",
       "  <thead>\n",
       "    <tr style=\"text-align: right;\">\n",
       "      <th>Worst drawdown periods</th>\n",
       "      <th>Net drawdown in %</th>\n",
       "      <th>Peak date</th>\n",
       "      <th>Valley date</th>\n",
       "      <th>Recovery date</th>\n",
       "      <th>Duration</th>\n",
       "    </tr>\n",
       "  </thead>\n",
       "  <tbody>\n",
       "    <tr>\n",
       "      <th>0</th>\n",
       "      <td>39.91</td>\n",
       "      <td>2015-12-18</td>\n",
       "      <td>2016-01-14</td>\n",
       "      <td>2016-01-26</td>\n",
       "      <td>27</td>\n",
       "    </tr>\n",
       "    <tr>\n",
       "      <th>1</th>\n",
       "      <td>31.63</td>\n",
       "      <td>2016-03-24</td>\n",
       "      <td>2016-07-12</td>\n",
       "      <td>2016-11-09</td>\n",
       "      <td>164</td>\n",
       "    </tr>\n",
       "    <tr>\n",
       "      <th>2</th>\n",
       "      <td>11.18</td>\n",
       "      <td>2016-02-11</td>\n",
       "      <td>2016-02-17</td>\n",
       "      <td>2016-02-24</td>\n",
       "      <td>10</td>\n",
       "    </tr>\n",
       "    <tr>\n",
       "      <th>3</th>\n",
       "      <td>5.30</td>\n",
       "      <td>2016-02-04</td>\n",
       "      <td>2016-02-05</td>\n",
       "      <td>2016-02-10</td>\n",
       "      <td>5</td>\n",
       "    </tr>\n",
       "    <tr>\n",
       "      <th>4</th>\n",
       "      <td>3.63</td>\n",
       "      <td>2016-02-24</td>\n",
       "      <td>2016-02-24</td>\n",
       "      <td>2016-02-26</td>\n",
       "      <td>2</td>\n",
       "    </tr>\n",
       "  </tbody>\n",
       "</table>"
      ],
      "text/plain": [
       "<IPython.core.display.HTML object>"
      ]
     },
     "metadata": {},
     "output_type": "display_data"
    },
    {
     "name": "stdout",
     "output_type": "stream",
     "text": [
      "None\n"
     ]
    }
   ],
   "source": [
    "test_dates = X_test.index\n",
    "\n",
    "print(pf.show_perf_stats(labels.loc[test_dates, 'ret']))\n",
    "print(pf.show_worst_drawdown_periods(labels.loc[test_dates, 'ret']))"
   ]
  },
  {
   "cell_type": "code",
   "execution_count": 78,
   "metadata": {},
   "outputs": [
    {
     "name": "stderr",
     "output_type": "stream",
     "text": [
      "c:\\users\\asingh\\anaconda3\\envs\\cap\\lib\\site-packages\\empyrical\\stats.py:704: RuntimeWarning: invalid value encountered in true_divide\n",
      "  out=out,\n",
      "c:\\users\\asingh\\anaconda3\\envs\\cap\\lib\\site-packages\\empyrical\\stats.py:790: RuntimeWarning: invalid value encountered in true_divide\n",
      "  np.divide(average_annual_return, annualized_downside_risk, out=out)\n",
      "c:\\users\\asingh\\anaconda3\\envs\\cap\\lib\\site-packages\\empyrical\\stats.py:1511: RuntimeWarning: invalid value encountered in double_scalars\n",
      "  np.abs(np.percentile(returns, 5))\n"
     ]
    },
    {
     "data": {
      "text/html": [
       "<table border=\"1\" class=\"dataframe\">\n",
       "  <thead>\n",
       "    <tr style=\"text-align: right;\"><th>Start date</th><td colspan=2>2015-12-03</td></tr>\n",
       "    <tr style=\"text-align: right;\"><th>End date</th><td colspan=2>2017-05-19</td></tr>\n",
       "    <tr style=\"text-align: right;\"><th>Total months</th><td colspan=2>16</td></tr>\n",
       "    <tr style=\"text-align: right;\">\n",
       "      <th></th>\n",
       "      <th>Backtest</th>\n",
       "    </tr>\n",
       "  </thead>\n",
       "  <tbody>\n",
       "    <tr>\n",
       "      <th>Annual return</th>\n",
       "      <td>0.0%</td>\n",
       "    </tr>\n",
       "    <tr>\n",
       "      <th>Cumulative returns</th>\n",
       "      <td>0.0%</td>\n",
       "    </tr>\n",
       "    <tr>\n",
       "      <th>Annual volatility</th>\n",
       "      <td>0.0%</td>\n",
       "    </tr>\n",
       "    <tr>\n",
       "      <th>Sharpe ratio</th>\n",
       "      <td>NaN</td>\n",
       "    </tr>\n",
       "    <tr>\n",
       "      <th>Calmar ratio</th>\n",
       "      <td>NaN</td>\n",
       "    </tr>\n",
       "    <tr>\n",
       "      <th>Stability</th>\n",
       "      <td>0.00</td>\n",
       "    </tr>\n",
       "    <tr>\n",
       "      <th>Max drawdown</th>\n",
       "      <td>0.0%</td>\n",
       "    </tr>\n",
       "    <tr>\n",
       "      <th>Omega ratio</th>\n",
       "      <td>NaN</td>\n",
       "    </tr>\n",
       "    <tr>\n",
       "      <th>Sortino ratio</th>\n",
       "      <td>NaN</td>\n",
       "    </tr>\n",
       "    <tr>\n",
       "      <th>Skew</th>\n",
       "      <td>0.00</td>\n",
       "    </tr>\n",
       "    <tr>\n",
       "      <th>Kurtosis</th>\n",
       "      <td>-3.00</td>\n",
       "    </tr>\n",
       "    <tr>\n",
       "      <th>Tail ratio</th>\n",
       "      <td>NaN</td>\n",
       "    </tr>\n",
       "    <tr>\n",
       "      <th>Daily value at risk</th>\n",
       "      <td>0.0%</td>\n",
       "    </tr>\n",
       "  </tbody>\n",
       "</table>"
      ],
      "text/plain": [
       "<IPython.core.display.HTML object>"
      ]
     },
     "metadata": {},
     "output_type": "display_data"
    },
    {
     "name": "stdout",
     "output_type": "stream",
     "text": [
      "None\n"
     ]
    },
    {
     "data": {
      "text/html": [
       "<table border=\"1\" class=\"dataframe\">\n",
       "  <thead>\n",
       "    <tr style=\"text-align: right;\">\n",
       "      <th>Worst drawdown periods</th>\n",
       "      <th>Net drawdown in %</th>\n",
       "      <th>Peak date</th>\n",
       "      <th>Valley date</th>\n",
       "      <th>Recovery date</th>\n",
       "      <th>Duration</th>\n",
       "    </tr>\n",
       "  </thead>\n",
       "  <tbody>\n",
       "    <tr>\n",
       "      <th>0</th>\n",
       "      <td>0.00</td>\n",
       "      <td>2015-12-03</td>\n",
       "      <td>2015-12-03</td>\n",
       "      <td>2015-12-03</td>\n",
       "      <td>1</td>\n",
       "    </tr>\n",
       "    <tr>\n",
       "      <th>1</th>\n",
       "      <td>0.00</td>\n",
       "      <td>2015-12-03</td>\n",
       "      <td>2015-12-03</td>\n",
       "      <td>2015-12-03</td>\n",
       "      <td>1</td>\n",
       "    </tr>\n",
       "    <tr>\n",
       "      <th>2</th>\n",
       "      <td>0.00</td>\n",
       "      <td>2015-12-03</td>\n",
       "      <td>2015-12-03</td>\n",
       "      <td>2015-12-03</td>\n",
       "      <td>1</td>\n",
       "    </tr>\n",
       "    <tr>\n",
       "      <th>3</th>\n",
       "      <td>0.00</td>\n",
       "      <td>2015-12-03</td>\n",
       "      <td>2015-12-03</td>\n",
       "      <td>2015-12-03</td>\n",
       "      <td>1</td>\n",
       "    </tr>\n",
       "    <tr>\n",
       "      <th>4</th>\n",
       "      <td>0.00</td>\n",
       "      <td>2015-12-03</td>\n",
       "      <td>2015-12-03</td>\n",
       "      <td>2015-12-03</td>\n",
       "      <td>1</td>\n",
       "    </tr>\n",
       "  </tbody>\n",
       "</table>"
      ],
      "text/plain": [
       "<IPython.core.display.HTML object>"
      ]
     },
     "metadata": {},
     "output_type": "display_data"
    },
    {
     "name": "stdout",
     "output_type": "stream",
     "text": [
      "None\n"
     ]
    }
   ],
   "source": [
    "meta_returns = labels.loc[test_dates, 'ret'] * y_pred\n",
    "\n",
    "print(pf.show_perf_stats(meta_returns))\n",
    "print(pf.show_worst_drawdown_periods(meta_returns))"
   ]
  },
  {
   "cell_type": "markdown",
   "metadata": {},
   "source": [
    "---\n",
    "## Conclusion\n"
   ]
  }
 ],
 "metadata": {
  "kernelspec": {
   "display_name": "Python 3",
   "language": "python",
   "name": "python3"
  },
  "language_info": {
   "codemirror_mode": {
    "name": "ipython",
    "version": 3
   },
   "file_extension": ".py",
   "mimetype": "text/x-python",
   "name": "python",
   "nbconvert_exporter": "python",
   "pygments_lexer": "ipython3",
   "version": "3.6.8"
  }
 },
 "nbformat": 4,
 "nbformat_minor": 2
}
